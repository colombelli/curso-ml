{
  "nbformat": 4,
  "nbformat_minor": 0,
  "metadata": {
    "colab": {
      "name": "Keras-MNIST.ipynb",
      "provenance": [],
      "collapsed_sections": []
    },
    "kernelspec": {
      "name": "python3",
      "display_name": "Python 3"
    }
  },
  "cells": [
    {
      "cell_type": "markdown",
      "metadata": {
        "id": "NwJHPBoZPTtT",
        "colab_type": "text"
      },
      "source": [
        "Autor: Felipe Colombelli\n",
        "```\n",
        "```\n",
        "Github: @colombelli"
      ]
    },
    {
      "cell_type": "code",
      "metadata": {
        "id": "NlIdEqoDdJha",
        "colab_type": "code",
        "outputId": "761d7312-56c9-40e5-f374-614849bf026c",
        "colab": {
          "base_uri": "https://localhost:8080/",
          "height": 54
        }
      },
      "source": [
        "# Importando o TensorFlow e carregando o dataset\n",
        "\n",
        "import tensorflow as tf\n",
        "\n",
        "mnist = tf.keras.datasets.mnist\n",
        "(x_train, y_train), (x_test, y_test) = mnist.load_data()"
      ],
      "execution_count": 0,
      "outputs": [
        {
          "output_type": "stream",
          "text": [
            "Downloading data from https://storage.googleapis.com/tensorflow/tf-keras-datasets/mnist.npz\n",
            "11493376/11490434 [==============================] - 0s 0us/step\n"
          ],
          "name": "stdout"
        }
      ]
    },
    {
      "cell_type": "markdown",
      "metadata": {
        "id": "zbnlgM7WetSd",
        "colab_type": "text"
      },
      "source": [
        "**Entendendo os dados...**"
      ]
    },
    {
      "cell_type": "code",
      "metadata": {
        "id": "b3sbGT-Edcn6",
        "colab_type": "code",
        "outputId": "71cad3ba-0a23-4b26-a2c1-b46d11187537",
        "colab": {
          "base_uri": "https://localhost:8080/",
          "height": 164
        }
      },
      "source": [
        "# Investigação das dimensões e tipo dos dados\n",
        "\n",
        "print(type(x_train))\n",
        "print(x_train.shape)\n",
        "\n",
        "print(type(y_test))\n",
        "print(y_train.shape)\n",
        "\n",
        "print(type(x_test))\n",
        "print(x_test.shape)\n",
        "\n",
        "print(type(y_test))\n",
        "print(y_test.shape)"
      ],
      "execution_count": 0,
      "outputs": [
        {
          "output_type": "stream",
          "text": [
            "<class 'numpy.ndarray'>\n",
            "(60000, 28, 28)\n",
            "<class 'numpy.ndarray'>\n",
            "(60000,)\n",
            "<class 'numpy.ndarray'>\n",
            "(10000, 28, 28)\n",
            "<class 'numpy.ndarray'>\n",
            "(10000,)\n"
          ],
          "name": "stdout"
        }
      ]
    },
    {
      "cell_type": "code",
      "metadata": {
        "id": "OVYUoQwgehKc",
        "colab_type": "code",
        "outputId": "06a57165-c1d4-40bf-994a-7c671f28b5c1",
        "colab": {
          "base_uri": "https://localhost:8080/",
          "height": 1000
        }
      },
      "source": [
        "# Investigação de uma amostra específica dos dados\n",
        "\n",
        "print(x_train[0])\n",
        "print(\"\\n\\n~~~~~~~\\n\\n\")\n",
        "print(y_train[0])"
      ],
      "execution_count": 0,
      "outputs": [
        {
          "output_type": "stream",
          "text": [
            "[[  0   0   0   0   0   0   0   0   0   0   0   0   0   0   0   0   0   0\n",
            "    0   0   0   0   0   0   0   0   0   0]\n",
            " [  0   0   0   0   0   0   0   0   0   0   0   0   0   0   0   0   0   0\n",
            "    0   0   0   0   0   0   0   0   0   0]\n",
            " [  0   0   0   0   0   0   0   0   0   0   0   0   0   0   0   0   0   0\n",
            "    0   0   0   0   0   0   0   0   0   0]\n",
            " [  0   0   0   0   0   0   0   0   0   0   0   0   0   0   0   0   0   0\n",
            "    0   0   0   0   0   0   0   0   0   0]\n",
            " [  0   0   0   0   0   0   0   0   0   0   0   0   0   0   0   0   0   0\n",
            "    0   0   0   0   0   0   0   0   0   0]\n",
            " [  0   0   0   0   0   0   0   0   0   0   0   0   3  18  18  18 126 136\n",
            "  175  26 166 255 247 127   0   0   0   0]\n",
            " [  0   0   0   0   0   0   0   0  30  36  94 154 170 253 253 253 253 253\n",
            "  225 172 253 242 195  64   0   0   0   0]\n",
            " [  0   0   0   0   0   0   0  49 238 253 253 253 253 253 253 253 253 251\n",
            "   93  82  82  56  39   0   0   0   0   0]\n",
            " [  0   0   0   0   0   0   0  18 219 253 253 253 253 253 198 182 247 241\n",
            "    0   0   0   0   0   0   0   0   0   0]\n",
            " [  0   0   0   0   0   0   0   0  80 156 107 253 253 205  11   0  43 154\n",
            "    0   0   0   0   0   0   0   0   0   0]\n",
            " [  0   0   0   0   0   0   0   0   0  14   1 154 253  90   0   0   0   0\n",
            "    0   0   0   0   0   0   0   0   0   0]\n",
            " [  0   0   0   0   0   0   0   0   0   0   0 139 253 190   2   0   0   0\n",
            "    0   0   0   0   0   0   0   0   0   0]\n",
            " [  0   0   0   0   0   0   0   0   0   0   0  11 190 253  70   0   0   0\n",
            "    0   0   0   0   0   0   0   0   0   0]\n",
            " [  0   0   0   0   0   0   0   0   0   0   0   0  35 241 225 160 108   1\n",
            "    0   0   0   0   0   0   0   0   0   0]\n",
            " [  0   0   0   0   0   0   0   0   0   0   0   0   0  81 240 253 253 119\n",
            "   25   0   0   0   0   0   0   0   0   0]\n",
            " [  0   0   0   0   0   0   0   0   0   0   0   0   0   0  45 186 253 253\n",
            "  150  27   0   0   0   0   0   0   0   0]\n",
            " [  0   0   0   0   0   0   0   0   0   0   0   0   0   0   0  16  93 252\n",
            "  253 187   0   0   0   0   0   0   0   0]\n",
            " [  0   0   0   0   0   0   0   0   0   0   0   0   0   0   0   0   0 249\n",
            "  253 249  64   0   0   0   0   0   0   0]\n",
            " [  0   0   0   0   0   0   0   0   0   0   0   0   0   0  46 130 183 253\n",
            "  253 207   2   0   0   0   0   0   0   0]\n",
            " [  0   0   0   0   0   0   0   0   0   0   0   0  39 148 229 253 253 253\n",
            "  250 182   0   0   0   0   0   0   0   0]\n",
            " [  0   0   0   0   0   0   0   0   0   0  24 114 221 253 253 253 253 201\n",
            "   78   0   0   0   0   0   0   0   0   0]\n",
            " [  0   0   0   0   0   0   0   0  23  66 213 253 253 253 253 198  81   2\n",
            "    0   0   0   0   0   0   0   0   0   0]\n",
            " [  0   0   0   0   0   0  18 171 219 253 253 253 253 195  80   9   0   0\n",
            "    0   0   0   0   0   0   0   0   0   0]\n",
            " [  0   0   0   0  55 172 226 253 253 253 253 244 133  11   0   0   0   0\n",
            "    0   0   0   0   0   0   0   0   0   0]\n",
            " [  0   0   0   0 136 253 253 253 212 135 132  16   0   0   0   0   0   0\n",
            "    0   0   0   0   0   0   0   0   0   0]\n",
            " [  0   0   0   0   0   0   0   0   0   0   0   0   0   0   0   0   0   0\n",
            "    0   0   0   0   0   0   0   0   0   0]\n",
            " [  0   0   0   0   0   0   0   0   0   0   0   0   0   0   0   0   0   0\n",
            "    0   0   0   0   0   0   0   0   0   0]\n",
            " [  0   0   0   0   0   0   0   0   0   0   0   0   0   0   0   0   0   0\n",
            "    0   0   0   0   0   0   0   0   0   0]]\n",
            "\n",
            "\n",
            "~~~~~~~\n",
            "\n",
            "\n",
            "5\n"
          ],
          "name": "stdout"
        }
      ]
    },
    {
      "cell_type": "code",
      "metadata": {
        "id": "WgROSpNsdU47",
        "colab_type": "code",
        "outputId": "c551aecd-6974-4d4d-c940-fc62e0d52833",
        "colab": {
          "base_uri": "https://localhost:8080/",
          "height": 287
        }
      },
      "source": [
        "# Visualizando uma imagem qualquer do dataset\n",
        "\n",
        "import matplotlib.pyplot as plt\n",
        "plt.imshow(x_train[0], 'gray')"
      ],
      "execution_count": 0,
      "outputs": [
        {
          "output_type": "execute_result",
          "data": {
            "text/plain": [
              "<matplotlib.image.AxesImage at 0x7fc4fa53b048>"
            ]
          },
          "metadata": {
            "tags": []
          },
          "execution_count": 9
        },
        {
          "output_type": "display_data",
          "data": {
            "image/png": "[encoded data removed]",
            "text/plain": [
              "<Figure size 432x288 with 1 Axes>"
            ]
          },
          "metadata": {
            "tags": []
          }
        }
      ]
    },
    {
      "cell_type": "markdown",
      "metadata": {
        "id": "0kvIp3aGC_w9",
        "colab_type": "text"
      },
      "source": [
        "**Processamento dos dados**"
      ]
    },
    {
      "cell_type": "code",
      "metadata": {
        "id": "irB1jz0HgAn_",
        "colab_type": "code",
        "outputId": "daad069c-9373-4088-d174-807bae55c072",
        "colab": {
          "base_uri": "https://localhost:8080/",
          "height": 1000
        }
      },
      "source": [
        "# Normalização dos dados\n",
        "\n",
        "x_train = tf.keras.utils.normalize(x_train, axis=1)\n",
        "x_test = tf.keras.utils.normalize(x_test, axis=1)\n",
        "\n",
        "x_train[0]"
      ],
      "execution_count": 0,
      "outputs": [
        {
          "output_type": "execute_result",
          "data": {
            "text/plain": [
              "array([[0.        , 0.        , 0.        , 0.        , 0.        ,\n",
              "        0.        , 0.        , 0.        , 0.        , 0.        ,\n",
              "        0.        , 0.        , 0.        , 0.        , 0.        ,\n",
              "        0.        , 0.        , 0.        , 0.        , 0.        ,\n",
              "        0.        , 0.        , 0.        , 0.        , 0.        ,\n",
              "        0.        , 0.        , 0.        ],\n",
              "       [0.        , 0.        , 0.        , 0.        , 0.        ,\n",
              "        0.        , 0.        , 0.        , 0.        , 0.        ,\n",
              "        0.        , 0.        , 0.        , 0.        , 0.        ,\n",
              "        0.        , 0.        , 0.        , 0.        , 0.        ,\n",
              "        0.        , 0.        , 0.        , 0.        , 0.        ,\n",
              "        0.        , 0.        , 0.        ],\n",
              "       [0.        , 0.        , 0.        , 0.        , 0.        ,\n",
              "        0.        , 0.        , 0.        , 0.        , 0.        ,\n",
              "        0.        , 0.        , 0.        , 0.        , 0.        ,\n",
              "        0.        , 0.        , 0.        , 0.        , 0.        ,\n",
              "        0.        , 0.        , 0.        , 0.        , 0.        ,\n",
              "        0.        , 0.        , 0.        ],\n",
              "       [0.        , 0.        , 0.        , 0.        , 0.        ,\n",
              "        0.        , 0.        , 0.        , 0.        , 0.        ,\n",
              "        0.        , 0.        , 0.        , 0.        , 0.        ,\n",
              "        0.        , 0.        , 0.        , 0.        , 0.        ,\n",
              "        0.        , 0.        , 0.        , 0.        , 0.        ,\n",
              "        0.        , 0.        , 0.        ],\n",
              "       [0.        , 0.        , 0.        , 0.        , 0.        ,\n",
              "        0.        , 0.        , 0.        , 0.        , 0.        ,\n",
              "        0.        , 0.        , 0.        , 0.        , 0.        ,\n",
              "        0.        , 0.        , 0.        , 0.        , 0.        ,\n",
              "        0.        , 0.        , 0.        , 0.        , 0.        ,\n",
              "        0.        , 0.        , 0.        ],\n",
              "       [0.        , 0.        , 0.        , 0.        , 0.        ,\n",
              "        0.        , 0.        , 0.        , 0.        , 0.        ,\n",
              "        0.        , 0.        , 0.00393124, 0.02332955, 0.02620568,\n",
              "        0.02625207, 0.17420356, 0.17566281, 0.28629534, 0.05664824,\n",
              "        0.51877786, 0.71632322, 0.77892406, 0.89301644, 0.        ,\n",
              "        0.        , 0.        , 0.        ],\n",
              "       [0.        , 0.        , 0.        , 0.        , 0.        ,\n",
              "        0.        , 0.        , 0.        , 0.05780486, 0.06524513,\n",
              "        0.16128198, 0.22713296, 0.22277047, 0.32790981, 0.36833534,\n",
              "        0.3689874 , 0.34978968, 0.32678448, 0.368094  , 0.3747499 ,\n",
              "        0.79066747, 0.67980478, 0.61494005, 0.45002403, 0.        ,\n",
              "        0.        , 0.        , 0.        ],\n",
              "       [0.        , 0.        , 0.        , 0.        , 0.        ,\n",
              "        0.        , 0.        , 0.12250613, 0.45858525, 0.45852825,\n",
              "        0.43408872, 0.37314701, 0.33153488, 0.32790981, 0.36833534,\n",
              "        0.3689874 , 0.34978968, 0.32420121, 0.15214552, 0.17865984,\n",
              "        0.25626376, 0.1573102 , 0.12298801, 0.        , 0.        ,\n",
              "        0.        , 0.        , 0.        ],\n",
              "       [0.        , 0.        , 0.        , 0.        , 0.        ,\n",
              "        0.        , 0.        , 0.04500225, 0.4219755 , 0.45852825,\n",
              "        0.43408872, 0.37314701, 0.33153488, 0.32790981, 0.28826244,\n",
              "        0.26543758, 0.34149427, 0.31128482, 0.        , 0.        ,\n",
              "        0.        , 0.        , 0.        , 0.        , 0.        ,\n",
              "        0.        , 0.        , 0.        ],\n",
              "       [0.        , 0.        , 0.        , 0.        , 0.        ,\n",
              "        0.        , 0.        , 0.        , 0.1541463 , 0.28272888,\n",
              "        0.18358693, 0.37314701, 0.33153488, 0.26569767, 0.01601458,\n",
              "        0.        , 0.05945042, 0.19891229, 0.        , 0.        ,\n",
              "        0.        , 0.        , 0.        , 0.        , 0.        ,\n",
              "        0.        , 0.        , 0.        ],\n",
              "       [0.        , 0.        , 0.        , 0.        , 0.        ,\n",
              "        0.        , 0.        , 0.        , 0.        , 0.0253731 ,\n",
              "        0.00171577, 0.22713296, 0.33153488, 0.11664776, 0.        ,\n",
              "        0.        , 0.        , 0.        , 0.        , 0.        ,\n",
              "        0.        , 0.        , 0.        , 0.        , 0.        ,\n",
              "        0.        , 0.        , 0.        ],\n",
              "       [0.        , 0.        , 0.        , 0.        , 0.        ,\n",
              "        0.        , 0.        , 0.        , 0.        , 0.        ,\n",
              "        0.        , 0.20500962, 0.33153488, 0.24625638, 0.00291174,\n",
              "        0.        , 0.        , 0.        , 0.        , 0.        ,\n",
              "        0.        , 0.        , 0.        , 0.        , 0.        ,\n",
              "        0.        , 0.        , 0.        ],\n",
              "       [0.        , 0.        , 0.        , 0.        , 0.        ,\n",
              "        0.        , 0.        , 0.        , 0.        , 0.        ,\n",
              "        0.        , 0.01622378, 0.24897876, 0.32790981, 0.10191096,\n",
              "        0.        , 0.        , 0.        , 0.        , 0.        ,\n",
              "        0.        , 0.        , 0.        , 0.        , 0.        ,\n",
              "        0.        , 0.        , 0.        ],\n",
              "       [0.        , 0.        , 0.        , 0.        , 0.        ,\n",
              "        0.        , 0.        , 0.        , 0.        , 0.        ,\n",
              "        0.        , 0.        , 0.04586451, 0.31235677, 0.32757096,\n",
              "        0.23335172, 0.14931733, 0.00129164, 0.        , 0.        ,\n",
              "        0.        , 0.        , 0.        , 0.        , 0.        ,\n",
              "        0.        , 0.        , 0.        ],\n",
              "       [0.        , 0.        , 0.        , 0.        , 0.        ,\n",
              "        0.        , 0.        , 0.        , 0.        , 0.        ,\n",
              "        0.        , 0.        , 0.        , 0.10498298, 0.34940902,\n",
              "        0.3689874 , 0.34978968, 0.15370495, 0.04089933, 0.        ,\n",
              "        0.        , 0.        , 0.        , 0.        , 0.        ,\n",
              "        0.        , 0.        , 0.        ],\n",
              "       [0.        , 0.        , 0.        , 0.        , 0.        ,\n",
              "        0.        , 0.        , 0.        , 0.        , 0.        ,\n",
              "        0.        , 0.        , 0.        , 0.        , 0.06551419,\n",
              "        0.27127137, 0.34978968, 0.32678448, 0.245396  , 0.05882702,\n",
              "        0.        , 0.        , 0.        , 0.        , 0.        ,\n",
              "        0.        , 0.        , 0.        ],\n",
              "       [0.        , 0.        , 0.        , 0.        , 0.        ,\n",
              "        0.        , 0.        , 0.        , 0.        , 0.        ,\n",
              "        0.        , 0.        , 0.        , 0.        , 0.        ,\n",
              "        0.02333517, 0.12857881, 0.32549285, 0.41390126, 0.40743158,\n",
              "        0.        , 0.        , 0.        , 0.        , 0.        ,\n",
              "        0.        , 0.        , 0.        ],\n",
              "       [0.        , 0.        , 0.        , 0.        , 0.        ,\n",
              "        0.        , 0.        , 0.        , 0.        , 0.        ,\n",
              "        0.        , 0.        , 0.        , 0.        , 0.        ,\n",
              "        0.        , 0.        , 0.32161793, 0.41390126, 0.54251585,\n",
              "        0.20001074, 0.        , 0.        , 0.        , 0.        ,\n",
              "        0.        , 0.        , 0.        ],\n",
              "       [0.        , 0.        , 0.        , 0.        , 0.        ,\n",
              "        0.        , 0.        , 0.        , 0.        , 0.        ,\n",
              "        0.        , 0.        , 0.        , 0.        , 0.06697006,\n",
              "        0.18959827, 0.25300993, 0.32678448, 0.41390126, 0.45100715,\n",
              "        0.00625034, 0.        , 0.        , 0.        , 0.        ,\n",
              "        0.        , 0.        , 0.        ],\n",
              "       [0.        , 0.        , 0.        , 0.        , 0.        ,\n",
              "        0.        , 0.        , 0.        , 0.        , 0.        ,\n",
              "        0.        , 0.        , 0.05110617, 0.19182076, 0.33339444,\n",
              "        0.3689874 , 0.34978968, 0.32678448, 0.40899334, 0.39653769,\n",
              "        0.        , 0.        , 0.        , 0.        , 0.        ,\n",
              "        0.        , 0.        , 0.        ],\n",
              "       [0.        , 0.        , 0.        , 0.        , 0.        ,\n",
              "        0.        , 0.        , 0.        , 0.        , 0.        ,\n",
              "        0.04117838, 0.16813739, 0.28960162, 0.32790981, 0.36833534,\n",
              "        0.3689874 , 0.34978968, 0.25961929, 0.12760592, 0.        ,\n",
              "        0.        , 0.        , 0.        , 0.        , 0.        ,\n",
              "        0.        , 0.        , 0.        ],\n",
              "       [0.        , 0.        , 0.        , 0.        , 0.        ,\n",
              "        0.        , 0.        , 0.        , 0.04431706, 0.11961607,\n",
              "        0.36545809, 0.37314701, 0.33153488, 0.32790981, 0.36833534,\n",
              "        0.28877275, 0.111988  , 0.00258328, 0.        , 0.        ,\n",
              "        0.        , 0.        , 0.        , 0.        , 0.        ,\n",
              "        0.        , 0.        , 0.        ],\n",
              "       [0.        , 0.        , 0.        , 0.        , 0.        ,\n",
              "        0.        , 0.05298497, 0.42752138, 0.4219755 , 0.45852825,\n",
              "        0.43408872, 0.37314701, 0.33153488, 0.25273681, 0.11646967,\n",
              "        0.01312603, 0.        , 0.        , 0.        , 0.        ,\n",
              "        0.        , 0.        , 0.        , 0.        , 0.        ,\n",
              "        0.        , 0.        , 0.        ],\n",
              "       [0.        , 0.        , 0.        , 0.        , 0.37491383,\n",
              "        0.56222061, 0.66525569, 0.63253163, 0.48748768, 0.45852825,\n",
              "        0.43408872, 0.359873  , 0.17428513, 0.01425695, 0.        ,\n",
              "        0.        , 0.        , 0.        , 0.        , 0.        ,\n",
              "        0.        , 0.        , 0.        , 0.        , 0.        ,\n",
              "        0.        , 0.        , 0.        ],\n",
              "       [0.        , 0.        , 0.        , 0.        , 0.92705966,\n",
              "        0.82698729, 0.74473314, 0.63253163, 0.4084877 , 0.24466922,\n",
              "        0.22648107, 0.02359823, 0.        , 0.        , 0.        ,\n",
              "        0.        , 0.        , 0.        , 0.        , 0.        ,\n",
              "        0.        , 0.        , 0.        , 0.        , 0.        ,\n",
              "        0.        , 0.        , 0.        ],\n",
              "       [0.        , 0.        , 0.        , 0.        , 0.        ,\n",
              "        0.        , 0.        , 0.        , 0.        , 0.        ,\n",
              "        0.        , 0.        , 0.        , 0.        , 0.        ,\n",
              "        0.        , 0.        , 0.        , 0.        , 0.        ,\n",
              "        0.        , 0.        , 0.        , 0.        , 0.        ,\n",
              "        0.        , 0.        , 0.        ],\n",
              "       [0.        , 0.        , 0.        , 0.        , 0.        ,\n",
              "        0.        , 0.        , 0.        , 0.        , 0.        ,\n",
              "        0.        , 0.        , 0.        , 0.        , 0.        ,\n",
              "        0.        , 0.        , 0.        , 0.        , 0.        ,\n",
              "        0.        , 0.        , 0.        , 0.        , 0.        ,\n",
              "        0.        , 0.        , 0.        ],\n",
              "       [0.        , 0.        , 0.        , 0.        , 0.        ,\n",
              "        0.        , 0.        , 0.        , 0.        , 0.        ,\n",
              "        0.        , 0.        , 0.        , 0.        , 0.        ,\n",
              "        0.        , 0.        , 0.        , 0.        , 0.        ,\n",
              "        0.        , 0.        , 0.        , 0.        , 0.        ,\n",
              "        0.        , 0.        , 0.        ]])"
            ]
          },
          "metadata": {
            "tags": []
          },
          "execution_count": 10
        }
      ]
    },
    {
      "cell_type": "code",
      "metadata": {
        "id": "lDgL6jcNCeZz",
        "colab_type": "code",
        "outputId": "b8a9f212-91eb-49eb-8c42-8be5d3fe1291",
        "colab": {
          "base_uri": "https://localhost:8080/",
          "height": 35
        }
      },
      "source": [
        "# Transformação das labels em One Hot Encoding \n",
        "\n",
        "y_train = tf.keras.utils.to_categorical(y_train, 10)     \n",
        "y_test = tf.keras.utils.to_categorical(y_test, 10)\n",
        "\n",
        "y_train[0]"
      ],
      "execution_count": 0,
      "outputs": [
        {
          "output_type": "execute_result",
          "data": {
            "text/plain": [
              "array([0., 0., 0., 0., 0., 1., 0., 0., 0., 0.], dtype=float32)"
            ]
          },
          "metadata": {
            "tags": []
          },
          "execution_count": 11
        }
      ]
    },
    {
      "cell_type": "code",
      "metadata": {
        "id": "IEkACSIJkULK",
        "colab_type": "code",
        "colab": {}
      },
      "source": [
        "# Modelo básico\n",
        "\n",
        "model = tf.keras.models.Sequential()\n",
        "model.add(tf.keras.layers.Flatten())  \n",
        "model.add(tf.keras.layers.Dense(16, activation=tf.nn.sigmoid, \n",
        "                                input_dim=784))  \n",
        "model.add(tf.keras.layers.Dense(16, activation=tf.nn.sigmoid))  \n",
        "model.add(tf.keras.layers.Dense(10, activation=tf.nn.sigmoid))  \n",
        "\n",
        "opt = tf.keras.optimizers.SGD(lr=0.1)\n",
        "model.compile(loss='mean_squared_error',\n",
        "             metrics=['accuracy'], optimizer=opt)  \n",
        "\n"
      ],
      "execution_count": 0,
      "outputs": []
    },
    {
      "cell_type": "code",
      "metadata": {
        "id": "KV0PsrE2ce8h",
        "colab_type": "code",
        "outputId": "effd0270-1917-42ff-a881-2c1102ff853d",
        "colab": {
          "base_uri": "https://localhost:8080/",
          "height": 239
        }
      },
      "source": [
        "# Treino\n",
        "model.fit(x_train, y_train, epochs=3, batch_size=5)"
      ],
      "execution_count": 0,
      "outputs": [
        {
          "output_type": "stream",
          "text": [
            "WARNING:tensorflow:From /usr/local/lib/python3.6/dist-packages/tensorflow_core/python/ops/resource_variable_ops.py:1630: calling BaseResourceVariable.__init__ (from tensorflow.python.ops.resource_variable_ops) with constraint is deprecated and will be removed in a future version.\n",
            "Instructions for updating:\n",
            "If using Keras pass *_constraint arguments to layers.\n",
            "Train on 60000 samples\n",
            "Epoch 1/3\n",
            "60000/60000 [==============================] - 13s 224us/sample - loss: 0.0913 - acc: 0.1232\n",
            "Epoch 2/3\n",
            "60000/60000 [==============================] - 14s 230us/sample - loss: 0.0891 - acc: 0.1905\n",
            "Epoch 3/3\n",
            "60000/60000 [==============================] - 13s 224us/sample - loss: 0.0870 - acc: 0.3196\n"
          ],
          "name": "stdout"
        },
        {
          "output_type": "execute_result",
          "data": {
            "text/plain": [
              "<tensorflow.python.keras.callbacks.History at 0x7fc4f7d13c88>"
            ]
          },
          "metadata": {
            "tags": []
          },
          "execution_count": 13
        }
      ]
    },
    {
      "cell_type": "code",
      "metadata": {
        "id": "zmXboMzScgjg",
        "colab_type": "code",
        "outputId": "8db38ed3-6bed-4e5a-de6d-e31b23e06343",
        "colab": {
          "base_uri": "https://localhost:8080/",
          "height": 306
        }
      },
      "source": [
        "# Utilizando o modelo\n",
        "\n",
        "whatIsIt = x_test[1111]\n",
        "itIsA = y_test[1111]\n",
        "\n",
        "print(\"É um\", itIsA)\n",
        "plt.imshow(whatIsIt, 'gray')"
      ],
      "execution_count": 0,
      "outputs": [
        {
          "output_type": "stream",
          "text": [
            "It is a 4\n"
          ],
          "name": "stdout"
        },
        {
          "output_type": "execute_result",
          "data": {
            "text/plain": [
              "<matplotlib.image.AxesImage at 0x7f0a3f6c2518>"
            ]
          },
          "metadata": {
            "tags": []
          },
          "execution_count": 6
        },
        {
          "output_type": "display_data",
          "data": {
            "image/png": "[encoded data removed]",
            "text/plain": [
              "<Figure size 432x288 with 1 Axes>"
            ]
          },
          "metadata": {
            "tags": []
          }
        }
      ]
    },
    {
      "cell_type": "code",
      "metadata": {
        "id": "-13TVuTwqYHB",
        "colab_type": "code",
        "outputId": "23d03c71-71ca-44a9-bb5f-2e971476b9ab",
        "colab": {
          "base_uri": "https://localhost:8080/",
          "height": 34
        }
      },
      "source": [
        "predictions = model.predict_classes([x_test])\n",
        "print(\"O palpite do modelo é que seja um\", predictions[1111])"
      ],
      "execution_count": 0,
      "outputs": [
        {
          "output_type": "stream",
          "text": [
            "The model says it is a 4\n"
          ],
          "name": "stdout"
        }
      ]
    },
    {
      "cell_type": "code",
      "metadata": {
        "id": "81KyixNlp1kT",
        "colab_type": "code",
        "outputId": "ede90115-2a1f-4b92-c91d-5c8b964b91f6",
        "colab": {
          "base_uri": "https://localhost:8080/",
          "height": 85
        }
      },
      "source": [
        "# Loss e accuracy nos dados de teste\n",
        "\n",
        "val_loss, val_acc = model.evaluate(x_test, y_test)\n",
        "print(\"\\nLoss: \", val_loss, \"\\nAccuracy: \", val_acc)"
      ],
      "execution_count": 0,
      "outputs": [
        {
          "output_type": "stream",
          "text": [
            "10000/10000 [==============================] - 0s 35us/sample - loss: 0.0837 - acc: 0.3787\n",
            "\n",
            "Loss:  0.08373988853693008 \n",
            "Accuracy:  0.3787\n"
          ],
          "name": "stdout"
        }
      ]
    },
    {
      "cell_type": "code",
      "metadata": {
        "id": "lBrCMg2oANRY",
        "colab_type": "code",
        "outputId": "ccc59ec8-26b6-4700-c76a-b095553f0344",
        "colab": {
          "base_uri": "https://localhost:8080/",
          "height": 221
        }
      },
      "source": [
        "# Modelo básico + Softmax na última camada\n",
        "\n",
        "model2 = tf.keras.models.Sequential()\n",
        "model2.add(tf.keras.layers.Flatten())  \n",
        "model2.add(tf.keras.layers.Dense(16, activation=tf.nn.sigmoid))  \n",
        "model2.add(tf.keras.layers.Dense(16, activation=tf.nn.sigmoid))  \n",
        "model2.add(tf.keras.layers.Dense(10, activation=tf.nn.softmax)) \n",
        "\n",
        "opt2 = tf.keras.optimizers.SGD(lr=0.1)\n",
        "model2.compile(loss='mean_squared_error',\n",
        "             metrics=['accuracy'], optimizer=opt2)  \n",
        "\n",
        "model2.fit(x_train, y_train, epochs=5, batch_size=5)"
      ],
      "execution_count": 0,
      "outputs": [
        {
          "output_type": "stream",
          "text": [
            "Train on 60000 samples\n",
            "Epoch 1/5\n",
            "60000/60000 [==============================] - 14s 237us/sample - loss: 0.0900 - acc: 0.1173\n",
            "Epoch 2/5\n",
            "60000/60000 [==============================] - 14s 236us/sample - loss: 0.0890 - acc: 0.1655\n",
            "Epoch 3/5\n",
            "60000/60000 [==============================] - 14s 236us/sample - loss: 0.0854 - acc: 0.2387\n",
            "Epoch 4/5\n",
            "60000/60000 [==============================] - 14s 236us/sample - loss: 0.0761 - acc: 0.3133\n",
            "Epoch 5/5\n",
            "60000/60000 [==============================] - 14s 237us/sample - loss: 0.0665 - acc: 0.4541\n"
          ],
          "name": "stdout"
        },
        {
          "output_type": "execute_result",
          "data": {
            "text/plain": [
              "<tensorflow.python.keras.callbacks.History at 0x7fa75dcad2e8>"
            ]
          },
          "metadata": {
            "tags": []
          },
          "execution_count": 32
        }
      ]
    },
    {
      "cell_type": "code",
      "metadata": {
        "id": "xsQJsRNrA-Dm",
        "colab_type": "code",
        "outputId": "8ffb0942-c682-49fd-dd2f-8e0a4b40bac6",
        "colab": {
          "base_uri": "https://localhost:8080/",
          "height": 85
        }
      },
      "source": [
        "val_loss, val_acc = model2.evaluate(x_test, y_test)\n",
        "print(\"\\nLoss: \", val_loss, \"\\nAccuracy: \", val_acc)"
      ],
      "execution_count": 0,
      "outputs": [
        {
          "output_type": "stream",
          "text": [
            "10000/10000 [==============================] - 0s 36us/sample - loss: 0.0615 - acc: 0.5366\n",
            "\n",
            "Loss:  0.06153186094164848 \n",
            "Accuracy:  0.5366\n"
          ],
          "name": "stdout"
        }
      ]
    },
    {
      "cell_type": "code",
      "metadata": {
        "id": "7385G8zLBmo3",
        "colab_type": "code",
        "outputId": "40c61dc7-77e3-4698-cc25-5b8b100a22f1",
        "colab": {
          "base_uri": "https://localhost:8080/",
          "height": 221
        }
      },
      "source": [
        "# Softmax com Cross Entropy\n",
        "\n",
        "model2 = tf.keras.models.Sequential()\n",
        "model2.add(tf.keras.layers.Flatten())  \n",
        "model2.add(tf.keras.layers.Dense(16, activation=tf.nn.sigmoid))   \n",
        "model2.add(tf.keras.layers.Dense(16, activation=tf.nn.sigmoid)) \n",
        "model2.add(tf.keras.layers.Dense(10, activation=tf.nn.softmax)) \n",
        "\n",
        "opt2 = tf.keras.optimizers.SGD(lr=0.1)\n",
        "model2.compile(loss='categorical_crossentropy',\n",
        "             metrics=['accuracy'], optimizer=opt2)  \n",
        "\n",
        "model2.fit(x_train, y_train, epochs=5, batch_size=5)"
      ],
      "execution_count": 0,
      "outputs": [
        {
          "output_type": "stream",
          "text": [
            "Train on 60000 samples\n",
            "Epoch 1/5\n",
            "60000/60000 [==============================] - 14s 232us/sample - loss: 0.6677 - acc: 0.7930\n",
            "Epoch 2/5\n",
            "60000/60000 [==============================] - 14s 233us/sample - loss: 0.2442 - acc: 0.9292\n",
            "Epoch 3/5\n",
            "60000/60000 [==============================] - 14s 234us/sample - loss: 0.1957 - acc: 0.9426\n",
            "Epoch 4/5\n",
            "60000/60000 [==============================] - 14s 235us/sample - loss: 0.1726 - acc: 0.9499\n",
            "Epoch 5/5\n",
            "60000/60000 [==============================] - 14s 235us/sample - loss: 0.1598 - acc: 0.9528\n"
          ],
          "name": "stdout"
        },
        {
          "output_type": "execute_result",
          "data": {
            "text/plain": [
              "<tensorflow.python.keras.callbacks.History at 0x7fa7737e3dd8>"
            ]
          },
          "metadata": {
            "tags": []
          },
          "execution_count": 35
        }
      ]
    },
    {
      "cell_type": "code",
      "metadata": {
        "id": "EpuaRA0uB9wR",
        "colab_type": "code",
        "outputId": "185c34b3-7ae0-4559-fb64-bade98a8c96c",
        "colab": {
          "base_uri": "https://localhost:8080/",
          "height": 85
        }
      },
      "source": [
        "val_loss, val_acc = model2.evaluate(x_test, y_test)\n",
        "print(\"\\nLoss: \", val_loss, \"\\nAccuracy: \", val_acc)"
      ],
      "execution_count": 0,
      "outputs": [
        {
          "output_type": "stream",
          "text": [
            "10000/10000 [==============================] - 0s 40us/sample - loss: 0.1727 - acc: 0.9505\n",
            "\n",
            "Loss:  0.17265489064007997 \n",
            "Accuracy:  0.9505\n"
          ],
          "name": "stdout"
        }
      ]
    },
    {
      "cell_type": "markdown",
      "metadata": {
        "id": "9nxhTd1VgrcK",
        "colab_type": "text"
      },
      "source": [
        "## Analisando a diferença entre uma sigmoidal e a Softmax\n",
        "\n",
        "A sigmoide, a partir de um certo valor, muda pouca coisa mesmo para números distantes,\n",
        "por exemplo, 5 e 10 (dobro de 5). Já a softmax considera as dimensões entre os números\n",
        "e seu output são probabilidades que, somadas, resultam em 1."
      ]
    },
    {
      "cell_type": "code",
      "metadata": {
        "id": "Y6SZPyqrG23N",
        "colab_type": "code",
        "outputId": "8b746d95-f639-4668-d4bf-368626d541bc",
        "colab": {
          "base_uri": "https://localhost:8080/",
          "height": 34
        }
      },
      "source": [
        "import math\n",
        "\n",
        "def sigmoid(x):\n",
        "  return 1 / (1 + math.exp(-x))\n",
        "\n",
        "print(sigmoid(5), sigmoid(10))"
      ],
      "execution_count": 0,
      "outputs": [
        {
          "output_type": "stream",
          "text": [
            "0.9933071490757153 0.9999546021312976\n"
          ],
          "name": "stdout"
        }
      ]
    },
    {
      "cell_type": "code",
      "metadata": {
        "id": "Dx7sEHYhyJ2Z",
        "colab_type": "code",
        "outputId": "f49262c3-a26c-4f92-eb10-d93f59eaaf59",
        "colab": {
          "base_uri": "https://localhost:8080/",
          "height": 34
        }
      },
      "source": [
        "import numpy as np\n",
        "\n",
        "\n",
        "def softmax(x):\n",
        "    e_x = np.exp(x - np.max(x))\n",
        "    return e_x / e_x.sum(axis=0) \n",
        "  \n",
        "softmax([5, 10])"
      ],
      "execution_count": 0,
      "outputs": [
        {
          "output_type": "execute_result",
          "data": {
            "text/plain": [
              "array([0.00669285, 0.99330715])"
            ]
          },
          "metadata": {
            "tags": []
          },
          "execution_count": 2
        }
      ]
    },
    {
      "cell_type": "code",
      "metadata": {
        "id": "QxqkLF3r-V37",
        "colab_type": "code",
        "colab": {}
      },
      "source": [
        ""
      ],
      "execution_count": 0,
      "outputs": []
    }
  ]
}