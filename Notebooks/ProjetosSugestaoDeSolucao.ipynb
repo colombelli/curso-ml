{
  "nbformat": 4,
  "nbformat_minor": 0,
  "metadata": {
    "colab": {
      "name": "Projetos.ipynb",
      "provenance": [],
      "collapsed_sections": []
    },
    "kernelspec": {
      "name": "python3",
      "display_name": "Python 3"
    }
  },
  "cells": [
    {
      "cell_type": "markdown",
      "metadata": {
        "id": "aqdbdt5NVrOd",
        "colab_type": "text"
      },
      "source": [
        "Autor: Felipe Colombelli\n",
        "```\n",
        "```\n",
        "GitHub: @colombelli"
      ]
    },
    {
      "cell_type": "code",
      "metadata": {
        "id": "fi4f60FMRlrK",
        "colab_type": "code",
        "colab": {}
      },
      "source": [
        "# Utilizaremos dois datasets do scikit-learn\n",
        "from sklearn import datasets as ds\n",
        "\n",
        "\n",
        "# Breast cancer identification\n",
        "# https://scikit-learn.org/stable/datasets/index.html#breast-cancer-dataset\n",
        "# https://scikit-learn.org/stable/modules/generated/sklearn.datasets.load_breast_cancer.html#sklearn.datasets.load_breast_cancer\n",
        "x, y = ds.load_breast_cancer(return_X_y=True)\n",
        "\n",
        "\n",
        "# House pricing em Boston\n",
        "# https://scikit-learn.org/stable/datasets/index.html#boston-dataset\n",
        "# https://scikit-learn.org/stable/modules/generated/sklearn.datasets.load_boston.html#sklearn.datasets.load_boston\n",
        "x2, y2 = ds.load_boston(return_X_y=True)"
      ],
      "execution_count": 0,
      "outputs": []
    },
    {
      "cell_type": "markdown",
      "metadata": {
        "id": "Bj4ILL-JeK8_",
        "colab_type": "text"
      },
      "source": [
        "### Proposta de solução para o breast cancer dataset"
      ]
    },
    {
      "cell_type": "code",
      "metadata": {
        "id": "G6LPzk3ed14Q",
        "colab_type": "code",
        "colab": {}
      },
      "source": [
        "import tensorflow as tf\n",
        "\n",
        "# Normalização dos dados e transformação das labels para OHE\n",
        "x = tf.keras.utils.normalize(x, axis=1)\n",
        "y = tf.keras.utils.to_categorical(y, 2)  "
      ],
      "execution_count": 0,
      "outputs": []
    },
    {
      "cell_type": "code",
      "metadata": {
        "id": "cZbUpQsHeU5R",
        "colab_type": "code",
        "outputId": "20448738-c8ef-40f5-db7a-5e82b703fc82",
        "colab": {
          "base_uri": "https://localhost:8080/",
          "height": 34
        }
      },
      "source": [
        "# Investigação do formato\n",
        "\n",
        "print(x.shape, y.shape)"
      ],
      "execution_count": 0,
      "outputs": [
        {
          "output_type": "stream",
          "text": [
            "(569, 30) (569, 2)\n"
          ],
          "name": "stdout"
        }
      ]
    },
    {
      "cell_type": "code",
      "metadata": {
        "id": "vl8LevbUfLRo",
        "colab_type": "code",
        "colab": {}
      },
      "source": [
        "# Separação dos dados em treino/teste\n",
        "\n",
        "n_train = round(x.shape[0] * 0.8)\n",
        "x_train = x[0:n_train]\n",
        "x_test = x[n_train:]\n",
        "\n",
        "y_train = y[0:n_train]\n",
        "y_test = y[n_train:]"
      ],
      "execution_count": 0,
      "outputs": []
    },
    {
      "cell_type": "code",
      "metadata": {
        "id": "X0We2opMfxHg",
        "colab_type": "code",
        "outputId": "00128f64-9836-40b5-c840-a71db1707f1a",
        "colab": {
          "base_uri": "https://localhost:8080/",
          "height": 493
        }
      },
      "source": [
        "# Proposta de modelo: 30 - 64 relu - 32 relu - 2 softmax + cross entropy\n",
        "\n",
        "model = tf.keras.models.Sequential()\n",
        "model.add(tf.keras.layers.Dense(64, activation=tf.nn.relu, input_dim=30))   \n",
        "model.add(tf.keras.layers.Dense(32, activation=tf.nn.relu)) \n",
        "model.add(tf.keras.layers.Dense(2, activation=tf.nn.softmax)) \n",
        "\n",
        "opt = tf.keras.optimizers.Adam(lr=0.001)\n",
        "model.compile(loss='categorical_crossentropy',\n",
        "             metrics=['accuracy'], optimizer=opt)  \n",
        "\n",
        "model.fit(x_train, y_train, epochs=10, batch_size=5)\n",
        "\n",
        "print(\"\\n\\n\")\n",
        "\n",
        "val_loss, val_acc = model.evaluate(x_test, y_test)\n",
        "print(\"\\nLoss: \", val_loss, \"\\nAccuracy: \", val_acc)"
      ],
      "execution_count": 0,
      "outputs": [
        {
          "output_type": "stream",
          "text": [
            "Train on 455 samples\n",
            "Epoch 1/10\n",
            "455/455 [==============================] - 0s 1ms/sample - loss: 0.6591 - acc: 0.5934\n",
            "Epoch 2/10\n",
            "455/455 [==============================] - 0s 568us/sample - loss: 0.6151 - acc: 0.6505\n",
            "Epoch 3/10\n",
            "455/455 [==============================] - 0s 589us/sample - loss: 0.5541 - acc: 0.7495\n",
            "Epoch 4/10\n",
            "455/455 [==============================] - 0s 539us/sample - loss: 0.4565 - acc: 0.8396\n",
            "Epoch 5/10\n",
            "455/455 [==============================] - 0s 587us/sample - loss: 0.3516 - acc: 0.9121\n",
            "Epoch 6/10\n",
            "455/455 [==============================] - 0s 609us/sample - loss: 0.2977 - acc: 0.9033\n",
            "Epoch 7/10\n",
            "455/455 [==============================] - 0s 479us/sample - loss: 0.2697 - acc: 0.9033\n",
            "Epoch 8/10\n",
            "455/455 [==============================] - 0s 499us/sample - loss: 0.2488 - acc: 0.9077\n",
            "Epoch 9/10\n",
            "455/455 [==============================] - 0s 517us/sample - loss: 0.2357 - acc: 0.9187\n",
            "Epoch 10/10\n",
            "455/455 [==============================] - 0s 509us/sample - loss: 0.2188 - acc: 0.9187\n",
            "\n",
            "\n",
            "\n",
            "114/114 [==============================] - 0s 2ms/sample - loss: 0.2068 - acc: 0.9211\n",
            "\n",
            "Loss:  0.20683436174141734 \n",
            "Accuracy:  0.92105263\n"
          ],
          "name": "stdout"
        }
      ]
    },
    {
      "cell_type": "markdown",
      "metadata": {
        "id": "MWh0hRWzlG4v",
        "colab_type": "text"
      },
      "source": [
        "### Proposta de solução para o house pricing"
      ]
    },
    {
      "cell_type": "code",
      "metadata": {
        "id": "A96M2cbwgJXZ",
        "colab_type": "code",
        "outputId": "12aa368e-95cc-4df1-8b9a-51015b700688",
        "colab": {
          "base_uri": "https://localhost:8080/",
          "height": 34
        }
      },
      "source": [
        "# Investigação do formato\n",
        "\n",
        "print(x2.shape, y2.shape)"
      ],
      "execution_count": 0,
      "outputs": [
        {
          "output_type": "stream",
          "text": [
            "(506, 13) (506,)\n"
          ],
          "name": "stdout"
        }
      ]
    },
    {
      "cell_type": "code",
      "metadata": {
        "id": "qVD5BL9OllBu",
        "colab_type": "code",
        "colab": {}
      },
      "source": [
        "# Separação dos dados em treino/teste\n",
        "\n",
        "n_train = round(x2.shape[0] * 0.8)\n",
        "x2_train = x2[0:n_train]\n",
        "x2_test = x2[n_train:]\n",
        "\n",
        "y2_train = y2[0:n_train]\n",
        "y2_test = y2[n_train:]"
      ],
      "execution_count": 0,
      "outputs": []
    },
    {
      "cell_type": "code",
      "metadata": {
        "id": "iJ-Vg7Tflnte",
        "colab_type": "code",
        "outputId": "bb05194c-90d5-4703-9a4d-faca9c12d99a",
        "colab": {
          "base_uri": "https://localhost:8080/",
          "height": 1000
        }
      },
      "source": [
        "# O modelo proposto aqui visa generalizar ao máximo pois estava apresentando\n",
        "# alto grau de overfitting, por isso esta quantidade de hidden layers.\n",
        "\n",
        "model = tf.keras.models.Sequential()\n",
        "model.add(tf.keras.layers.Dense(6, activation=tf.nn.relu, input_dim=13))   \n",
        "model.add(tf.keras.layers.Dense(6, activation=tf.nn.relu)) \n",
        "model.add(tf.keras.layers.Dense(6, activation=tf.nn.relu))\n",
        "model.add(tf.keras.layers.Dense(6, activation=tf.nn.relu))\n",
        "model.add(tf.keras.layers.Dense(6, activation=tf.nn.relu))\n",
        "model.add(tf.keras.layers.Dense(6, activation=tf.nn.relu))\n",
        "model.add(tf.keras.layers.Dense(6, activation=tf.nn.relu))\n",
        "model.add(tf.keras.layers.Dense(1, activation=tf.nn.relu)) \n",
        "\n",
        "opt = tf.keras.optimizers.Adam(lr=0.0001)\n",
        "model.compile(loss='mean_squared_error', optimizer=opt)  \n",
        "\n",
        "model.fit(x2_train, y2_train, epochs=30, batch_size=1)\n",
        "\n",
        "print(\"\\n\\n\")\n",
        "\n",
        "val_loss = model.evaluate(x2_test, y2_test)\n",
        "print(\"\\nLoss: \", val_loss)"
      ],
      "execution_count": 0,
      "outputs": [
        {
          "output_type": "stream",
          "text": [
            "Train on 405 samples\n",
            "Epoch 1/30\n",
            "405/405 [==============================] - 8s 19ms/sample - loss: 359.6459\n",
            "Epoch 2/30\n",
            "405/405 [==============================] - 3s 6ms/sample - loss: 139.7011\n",
            "Epoch 3/30\n",
            "405/405 [==============================] - 2s 6ms/sample - loss: 118.3899\n",
            "Epoch 4/30\n",
            "405/405 [==============================] - 2s 6ms/sample - loss: 112.3900\n",
            "Epoch 5/30\n",
            "405/405 [==============================] - 2s 6ms/sample - loss: 108.7186\n",
            "Epoch 6/30\n",
            "405/405 [==============================] - 2s 6ms/sample - loss: 104.0914\n",
            "Epoch 7/30\n",
            "405/405 [==============================] - 2s 6ms/sample - loss: 100.0965\n",
            "Epoch 8/30\n",
            "405/405 [==============================] - 2s 6ms/sample - loss: 96.2157\n",
            "Epoch 9/30\n",
            "405/405 [==============================] - 3s 8ms/sample - loss: 91.9233\n",
            "Epoch 10/30\n",
            "405/405 [==============================] - 2s 6ms/sample - loss: 88.4490\n",
            "Epoch 11/30\n",
            "405/405 [==============================] - 2s 6ms/sample - loss: 85.3582\n",
            "Epoch 12/30\n",
            "405/405 [==============================] - 3s 6ms/sample - loss: 82.3619\n",
            "Epoch 13/30\n",
            "405/405 [==============================] - 2s 6ms/sample - loss: 79.4961\n",
            "Epoch 14/30\n",
            "405/405 [==============================] - 2s 5ms/sample - loss: 77.2748\n",
            "Epoch 15/30\n",
            "405/405 [==============================] - 1s 3ms/sample - loss: 75.6691\n",
            "Epoch 16/30\n",
            "405/405 [==============================] - 1s 4ms/sample - loss: 73.4256\n",
            "Epoch 17/30\n",
            "405/405 [==============================] - 1s 3ms/sample - loss: 72.2871\n",
            "Epoch 18/30\n",
            "405/405 [==============================] - 1s 3ms/sample - loss: 71.4642\n",
            "Epoch 19/30\n",
            "405/405 [==============================] - 2s 4ms/sample - loss: 70.1739\n",
            "Epoch 20/30\n",
            "405/405 [==============================] - 1s 3ms/sample - loss: 69.8743\n",
            "Epoch 21/30\n",
            "405/405 [==============================] - 1s 3ms/sample - loss: 69.3160\n",
            "Epoch 22/30\n",
            "405/405 [==============================] - 2s 4ms/sample - loss: 68.5274\n",
            "Epoch 23/30\n",
            "405/405 [==============================] - 1s 3ms/sample - loss: 68.6543\n",
            "Epoch 24/30\n",
            "405/405 [==============================] - 1s 3ms/sample - loss: 68.1839\n",
            "Epoch 25/30\n",
            "405/405 [==============================] - 1s 3ms/sample - loss: 67.6868\n",
            "Epoch 26/30\n",
            "405/405 [==============================] - 1s 3ms/sample - loss: 67.7143\n",
            "Epoch 27/30\n",
            "405/405 [==============================] - 1s 3ms/sample - loss: 67.1591\n",
            "Epoch 28/30\n",
            "405/405 [==============================] - 1s 3ms/sample - loss: 66.5493\n",
            "Epoch 29/30\n",
            "405/405 [==============================] - 1s 3ms/sample - loss: 66.3579\n",
            "Epoch 30/30\n",
            "405/405 [==============================] - 1s 3ms/sample - loss: 66.5179\n",
            "\n",
            "\n",
            "\n",
            "101/101 [==============================] - 2s 23ms/sample - loss: 16.9335\n",
            "\n",
            "Loss:  16.93345551443572\n"
          ],
          "name": "stdout"
        }
      ]
    },
    {
      "cell_type": "code",
      "metadata": {
        "id": "JVqn2yghn7nf",
        "colab_type": "code",
        "colab": {}
      },
      "source": [
        "# Pegando as predições do modelo para os casos de teste\n",
        "\n",
        "y2_pred = model.predict(x2_test)"
      ],
      "execution_count": 0,
      "outputs": []
    },
    {
      "cell_type": "code",
      "metadata": {
        "id": "tunyG4T4oc31",
        "colab_type": "code",
        "outputId": "2da529c9-fc3b-4e6b-a1e7-b94c995e35f3",
        "colab": {
          "base_uri": "https://localhost:8080/",
          "height": 1000
        }
      },
      "source": [
        "# Printando os valores de predição e valores reais\n",
        "\n",
        "print(\"Predição    ~    Real\\n\")\n",
        "for i, pred in enumerate(y2_pred):\n",
        "  print(\"%.2f\" %pred[0], \"      ~    \", y2_test[i])"
      ],
      "execution_count": 0,
      "outputs": [
        {
          "output_type": "stream",
          "text": [
            "Predição    ~    Real\n",
            "\n",
            "14.60       ~     5.0\n",
            "17.11       ~     11.9\n",
            "18.17       ~     27.9\n",
            "16.74       ~     17.2\n",
            "14.73       ~     27.5\n",
            "10.50       ~     15.0\n",
            "12.20       ~     17.2\n",
            "10.45       ~     17.9\n",
            "14.34       ~     16.3\n",
            "9.56       ~     7.0\n",
            "11.06       ~     7.2\n",
            "11.77       ~     7.5\n",
            "12.51       ~     10.4\n",
            "8.36       ~     8.8\n",
            "12.54       ~     8.4\n",
            "17.75       ~     16.7\n",
            "17.96       ~     14.2\n",
            "17.37       ~     20.8\n",
            "11.95       ~     13.4\n",
            "12.53       ~     11.7\n",
            "11.34       ~     8.3\n",
            "12.87       ~     10.2\n",
            "11.28       ~     10.9\n",
            "13.71       ~     11.0\n",
            "12.66       ~     9.5\n",
            "13.78       ~     14.5\n",
            "13.42       ~     14.1\n",
            "14.77       ~     16.1\n",
            "14.39       ~     14.3\n",
            "13.95       ~     11.7\n",
            "13.47       ~     13.4\n",
            "12.42       ~     9.6\n",
            "11.19       ~     8.7\n",
            "11.57       ~     8.4\n",
            "18.38       ~     12.8\n",
            "17.62       ~     10.5\n",
            "18.53       ~     17.1\n",
            "19.21       ~     18.4\n",
            "18.58       ~     15.4\n",
            "15.47       ~     10.8\n",
            "12.31       ~     11.8\n",
            "17.78       ~     14.9\n",
            "18.87       ~     12.6\n",
            "18.87       ~     14.1\n",
            "17.32       ~     13.0\n",
            "12.51       ~     13.4\n",
            "18.47       ~     15.2\n",
            "19.05       ~     16.1\n",
            "18.76       ~     17.8\n",
            "12.33       ~     14.9\n",
            "13.44       ~     14.1\n",
            "12.67       ~     12.7\n",
            "12.58       ~     13.5\n",
            "17.16       ~     14.9\n",
            "19.70       ~     20.0\n",
            "17.01       ~     16.4\n",
            "19.53       ~     17.7\n",
            "19.87       ~     19.5\n",
            "20.00       ~     20.2\n",
            "20.54       ~     21.4\n",
            "18.85       ~     19.9\n",
            "13.12       ~     19.0\n",
            "17.77       ~     19.1\n",
            "18.16       ~     19.1\n",
            "20.32       ~     20.1\n",
            "19.62       ~     19.9\n",
            "19.79       ~     19.6\n",
            "20.03       ~     23.2\n",
            "19.60       ~     29.8\n",
            "18.20       ~     13.8\n",
            "16.88       ~     13.3\n",
            "19.10       ~     16.7\n",
            "17.03       ~     12.0\n",
            "18.54       ~     14.6\n",
            "18.88       ~     21.4\n",
            "21.03       ~     23.0\n",
            "20.86       ~     23.7\n",
            "21.05       ~     25.0\n",
            "21.83       ~     21.8\n",
            "19.88       ~     20.6\n",
            "21.07       ~     21.2\n",
            "19.60       ~     19.1\n",
            "20.79       ~     20.6\n",
            "19.01       ~     15.2\n",
            "17.53       ~     7.0\n",
            "16.53       ~     8.1\n",
            "18.91       ~     13.6\n",
            "19.58       ~     20.1\n",
            "24.72       ~     21.8\n",
            "24.91       ~     24.5\n",
            "24.57       ~     23.1\n",
            "22.70       ~     19.7\n",
            "23.80       ~     18.3\n",
            "24.17       ~     21.2\n",
            "23.46       ~     17.5\n",
            "23.44       ~     16.8\n",
            "24.64       ~     22.4\n",
            "24.82       ~     20.6\n",
            "24.80       ~     23.9\n",
            "24.46       ~     22.0\n",
            "24.84       ~     11.9\n"
          ],
          "name": "stdout"
        }
      ]
    },
    {
      "cell_type": "code",
      "metadata": {
        "id": "3P-Cfx1Ir7xk",
        "colab_type": "code",
        "colab": {}
      },
      "source": [
        ""
      ],
      "execution_count": 0,
      "outputs": []
    }
  ]
}