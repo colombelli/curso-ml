{
  "nbformat": 4,
  "nbformat_minor": 0,
  "metadata": {
    "colab": {
      "name": "CrossValidation.ipynb",
      "provenance": [],
      "collapsed_sections": []
    },
    "kernelspec": {
      "name": "python3",
      "display_name": "Python 3"
    }
  },
  "cells": [
    {
      "cell_type": "markdown",
      "metadata": {
        "id": "k2jDN-HOua34",
        "colab_type": "text"
      },
      "source": [
        "## Construção do modelo utilizando o Fashion-MNIST database\n",
        "https://keras.io/datasets/\n",
        "```\n",
        "```\n",
        "\n",
        "Autor: Felipe Colombelli\n",
        "\n",
        "Github: @colombelli"
      ]
    },
    {
      "cell_type": "code",
      "metadata": {
        "id": "hJmxCanFe5PB",
        "colab_type": "code",
        "outputId": "2a4983e5-ec43-42f9-f418-18dd9a22b1c4",
        "colab": {
          "base_uri": "https://localhost:8080/",
          "height": 153
        }
      },
      "source": [
        "import tensorflow as tf\n",
        "\n",
        "(x_train, y_train), (x_test, y_test) = tf.keras.datasets.fashion_mnist.load_data()"
      ],
      "execution_count": 0,
      "outputs": [
        {
          "output_type": "stream",
          "text": [
            "Downloading data from https://storage.googleapis.com/tensorflow/tf-keras-datasets/train-labels-idx1-ubyte.gz\n",
            "32768/29515 [=================================] - 0s 0us/step\n",
            "Downloading data from https://storage.googleapis.com/tensorflow/tf-keras-datasets/train-images-idx3-ubyte.gz\n",
            "26427392/26421880 [==============================] - 1s 0us/step\n",
            "Downloading data from https://storage.googleapis.com/tensorflow/tf-keras-datasets/t10k-labels-idx1-ubyte.gz\n",
            "8192/5148 [===============================================] - 0s 0us/step\n",
            "Downloading data from https://storage.googleapis.com/tensorflow/tf-keras-datasets/t10k-images-idx3-ubyte.gz\n",
            "4423680/4422102 [==============================] - 0s 0us/step\n"
          ],
          "name": "stdout"
        }
      ]
    },
    {
      "cell_type": "code",
      "metadata": {
        "id": "jzvHRaEFpVTk",
        "colab_type": "code",
        "outputId": "2ac64001-e171-4cf5-b23f-397c449dc31b",
        "colab": {
          "base_uri": "https://localhost:8080/",
          "height": 153
        }
      },
      "source": [
        "# Investigação das dimensões e tipo dos dados\n",
        "\n",
        "print(type(x_train))\n",
        "print(x_train.shape)\n",
        "\n",
        "print(type(y_test))\n",
        "print(y_train.shape)\n",
        "\n",
        "print(type(x_test))\n",
        "print(x_test.shape)\n",
        "\n",
        "print(type(y_test))\n",
        "print(y_test.shape)"
      ],
      "execution_count": 0,
      "outputs": [
        {
          "output_type": "stream",
          "text": [
            "<class 'numpy.ndarray'>\n",
            "(60000, 28, 28)\n",
            "<class 'numpy.ndarray'>\n",
            "(60000,)\n",
            "<class 'numpy.ndarray'>\n",
            "(10000, 28, 28)\n",
            "<class 'numpy.ndarray'>\n",
            "(10000,)\n"
          ],
          "name": "stdout"
        }
      ]
    },
    {
      "cell_type": "code",
      "metadata": {
        "id": "jGeaZOh_rxuQ",
        "colab_type": "code",
        "outputId": "7fe0f989-c1c7-4271-ca32-993c82d6e0cd",
        "colab": {
          "base_uri": "https://localhost:8080/",
          "height": 1000
        }
      },
      "source": [
        "# Investigação de um dado específico\n",
        "\n",
        "print(x_train[0])\n",
        "print(\"\\n\\n~~~~~~~\\n\\n\")\n",
        "print(y_train[0])"
      ],
      "execution_count": 0,
      "outputs": [
        {
          "output_type": "stream",
          "text": [
            "[[  0   0   0   0   0   0   0   0   0   0   0   0   0   0   0   0   0   0\n",
            "    0   0   0   0   0   0   0   0   0   0]\n",
            " [  0   0   0   0   0   0   0   0   0   0   0   0   0   0   0   0   0   0\n",
            "    0   0   0   0   0   0   0   0   0   0]\n",
            " [  0   0   0   0   0   0   0   0   0   0   0   0   0   0   0   0   0   0\n",
            "    0   0   0   0   0   0   0   0   0   0]\n",
            " [  0   0   0   0   0   0   0   0   0   0   0   0   1   0   0  13  73   0\n",
            "    0   1   4   0   0   0   0   1   1   0]\n",
            " [  0   0   0   0   0   0   0   0   0   0   0   0   3   0  36 136 127  62\n",
            "   54   0   0   0   1   3   4   0   0   3]\n",
            " [  0   0   0   0   0   0   0   0   0   0   0   0   6   0 102 204 176 134\n",
            "  144 123  23   0   0   0   0  12  10   0]\n",
            " [  0   0   0   0   0   0   0   0   0   0   0   0   0   0 155 236 207 178\n",
            "  107 156 161 109  64  23  77 130  72  15]\n",
            " [  0   0   0   0   0   0   0   0   0   0   0   1   0  69 207 223 218 216\n",
            "  216 163 127 121 122 146 141  88 172  66]\n",
            " [  0   0   0   0   0   0   0   0   0   1   1   1   0 200 232 232 233 229\n",
            "  223 223 215 213 164 127 123 196 229   0]\n",
            " [  0   0   0   0   0   0   0   0   0   0   0   0   0 183 225 216 223 228\n",
            "  235 227 224 222 224 221 223 245 173   0]\n",
            " [  0   0   0   0   0   0   0   0   0   0   0   0   0 193 228 218 213 198\n",
            "  180 212 210 211 213 223 220 243 202   0]\n",
            " [  0   0   0   0   0   0   0   0   0   1   3   0  12 219 220 212 218 192\n",
            "  169 227 208 218 224 212 226 197 209  52]\n",
            " [  0   0   0   0   0   0   0   0   0   0   6   0  99 244 222 220 218 203\n",
            "  198 221 215 213 222 220 245 119 167  56]\n",
            " [  0   0   0   0   0   0   0   0   0   4   0   0  55 236 228 230 228 240\n",
            "  232 213 218 223 234 217 217 209  92   0]\n",
            " [  0   0   1   4   6   7   2   0   0   0   0   0 237 226 217 223 222 219\n",
            "  222 221 216 223 229 215 218 255  77   0]\n",
            " [  0   3   0   0   0   0   0   0   0  62 145 204 228 207 213 221 218 208\n",
            "  211 218 224 223 219 215 224 244 159   0]\n",
            " [  0   0   0   0  18  44  82 107 189 228 220 222 217 226 200 205 211 230\n",
            "  224 234 176 188 250 248 233 238 215   0]\n",
            " [  0  57 187 208 224 221 224 208 204 214 208 209 200 159 245 193 206 223\n",
            "  255 255 221 234 221 211 220 232 246   0]\n",
            " [  3 202 228 224 221 211 211 214 205 205 205 220 240  80 150 255 229 221\n",
            "  188 154 191 210 204 209 222 228 225   0]\n",
            " [ 98 233 198 210 222 229 229 234 249 220 194 215 217 241  65  73 106 117\n",
            "  168 219 221 215 217 223 223 224 229  29]\n",
            " [ 75 204 212 204 193 205 211 225 216 185 197 206 198 213 240 195 227 245\n",
            "  239 223 218 212 209 222 220 221 230  67]\n",
            " [ 48 203 183 194 213 197 185 190 194 192 202 214 219 221 220 236 225 216\n",
            "  199 206 186 181 177 172 181 205 206 115]\n",
            " [  0 122 219 193 179 171 183 196 204 210 213 207 211 210 200 196 194 191\n",
            "  195 191 198 192 176 156 167 177 210  92]\n",
            " [  0   0  74 189 212 191 175 172 175 181 185 188 189 188 193 198 204 209\n",
            "  210 210 211 188 188 194 192 216 170   0]\n",
            " [  2   0   0   0  66 200 222 237 239 242 246 243 244 221 220 193 191 179\n",
            "  182 182 181 176 166 168  99  58   0   0]\n",
            " [  0   0   0   0   0   0   0  40  61  44  72  41  35   0   0   0   0   0\n",
            "    0   0   0   0   0   0   0   0   0   0]\n",
            " [  0   0   0   0   0   0   0   0   0   0   0   0   0   0   0   0   0   0\n",
            "    0   0   0   0   0   0   0   0   0   0]\n",
            " [  0   0   0   0   0   0   0   0   0   0   0   0   0   0   0   0   0   0\n",
            "    0   0   0   0   0   0   0   0   0   0]]\n",
            "\n",
            "\n",
            "~~~~~~~\n",
            "\n",
            "\n",
            "9\n"
          ],
          "name": "stdout"
        }
      ]
    },
    {
      "cell_type": "code",
      "metadata": {
        "id": "D7xpcrhkr0Pr",
        "colab_type": "code",
        "outputId": "fc5f7069-c635-4ade-da8b-64135f5d0bec",
        "colab": {
          "base_uri": "https://localhost:8080/",
          "height": 286
        }
      },
      "source": [
        "# Visualizando uma imagem qualquer dos dados\n",
        "\n",
        "import matplotlib.pyplot as plt\n",
        "plt.imshow(x_train[0], 'gray')"
      ],
      "execution_count": 0,
      "outputs": [
        {
          "output_type": "execute_result",
          "data": {
            "text/plain": [
              "<matplotlib.image.AxesImage at 0x7f43c32d4748>"
            ]
          },
          "metadata": {
            "tags": []
          },
          "execution_count": 4
        },
        {
          "output_type": "display_data",
          "data": {
            "image/png": "[encoded data removed]",
            "text/plain": [
              "<Figure size 432x288 with 1 Axes>"
            ]
          },
          "metadata": {
            "tags": []
          }
        }
      ]
    },
    {
      "cell_type": "code",
      "metadata": {
        "id": "aGF-yo6asRFR",
        "colab_type": "code",
        "outputId": "0cefc02c-acd2-4984-ab2d-b65675062c83",
        "colab": {
          "base_uri": "https://localhost:8080/",
          "height": 1000
        }
      },
      "source": [
        "# Normalização dos dados\n",
        "\n",
        "x_train = tf.keras.utils.normalize(x_train, axis=1)\n",
        "x_test = tf.keras.utils.normalize(x_test, axis=1)\n",
        "\n",
        "x_train[0]"
      ],
      "execution_count": 0,
      "outputs": [
        {
          "output_type": "execute_result",
          "data": {
            "text/plain": [
              "array([[0.        , 0.        , 0.        , 0.        , 0.        ,\n",
              "        0.        , 0.        , 0.        , 0.        , 0.        ,\n",
              "        0.        , 0.        , 0.        , 0.        , 0.        ,\n",
              "        0.        , 0.        , 0.        , 0.        , 0.        ,\n",
              "        0.        , 0.        , 0.        , 0.        , 0.        ,\n",
              "        0.        , 0.        , 0.        ],\n",
              "       [0.        , 0.        , 0.        , 0.        , 0.        ,\n",
              "        0.        , 0.        , 0.        , 0.        , 0.        ,\n",
              "        0.        , 0.        , 0.        , 0.        , 0.        ,\n",
              "        0.        , 0.        , 0.        , 0.        , 0.        ,\n",
              "        0.        , 0.        , 0.        , 0.        , 0.        ,\n",
              "        0.        , 0.        , 0.        ],\n",
              "       [0.        , 0.        , 0.        , 0.        , 0.        ,\n",
              "        0.        , 0.        , 0.        , 0.        , 0.        ,\n",
              "        0.        , 0.        , 0.        , 0.        , 0.        ,\n",
              "        0.        , 0.        , 0.        , 0.        , 0.        ,\n",
              "        0.        , 0.        , 0.        , 0.        , 0.        ,\n",
              "        0.        , 0.        , 0.        ],\n",
              "       [0.        , 0.        , 0.        , 0.        , 0.        ,\n",
              "        0.        , 0.        , 0.        , 0.        , 0.        ,\n",
              "        0.        , 0.        , 0.00135942, 0.        , 0.        ,\n",
              "        0.0135775 , 0.07675477, 0.        , 0.        , 0.00108359,\n",
              "        0.00452712, 0.        , 0.        , 0.        , 0.        ,\n",
              "        0.00112628, 0.00124281, 0.        ],\n",
              "       [0.        , 0.        , 0.        , 0.        , 0.        ,\n",
              "        0.        , 0.        , 0.        , 0.        , 0.        ,\n",
              "        0.        , 0.        , 0.00407827, 0.        , 0.0393841 ,\n",
              "        0.14204153, 0.13353227, 0.06706289, 0.05944322, 0.        ,\n",
              "        0.        , 0.        , 0.00114334, 0.00349231, 0.00461146,\n",
              "        0.        , 0.        , 0.01550248],\n",
              "       [0.        , 0.        , 0.        , 0.        , 0.        ,\n",
              "        0.        , 0.        , 0.        , 0.        , 0.        ,\n",
              "        0.        , 0.        , 0.00815655, 0.        , 0.11158829,\n",
              "        0.2130623 , 0.18505259, 0.14494239, 0.15851525, 0.13328144,\n",
              "        0.02603093, 0.        , 0.        , 0.        , 0.        ,\n",
              "        0.01351531, 0.01242807, 0.        ],\n",
              "       [0.        , 0.        , 0.        , 0.        , 0.        ,\n",
              "        0.        , 0.        , 0.        , 0.        , 0.        ,\n",
              "        0.        , 0.        , 0.        , 0.        , 0.16957044,\n",
              "        0.24648383, 0.21764709, 0.19253541, 0.11778563, 0.16903988,\n",
              "        0.18221649, 0.12429049, 0.07317407, 0.02677434, 0.08877055,\n",
              "        0.14641589, 0.08948208, 0.07751239],\n",
              "       [0.        , 0.        , 0.        , 0.        , 0.        ,\n",
              "        0.        , 0.        , 0.        , 0.        , 0.        ,\n",
              "        0.        , 0.00148028, 0.        , 0.08043127, 0.22645859,\n",
              "        0.23290633, 0.22921287, 0.23363847, 0.23777287, 0.176625  ,\n",
              "        0.14373599, 0.13797385, 0.13948807, 0.16995886, 0.16255387,\n",
              "        0.0991123 , 0.21376275, 0.34105453],\n",
              "       [0.        , 0.        , 0.        , 0.        , 0.        ,\n",
              "        0.        , 0.        , 0.        , 0.        , 0.00158012,\n",
              "        0.00154801, 0.00148028, 0.        , 0.23313412, 0.25380866,\n",
              "        0.24230614, 0.2449844 , 0.24770005, 0.24547847, 0.24164034,\n",
              "        0.24333258, 0.24287959, 0.18750855, 0.14784092, 0.14180231,\n",
              "        0.22075012, 0.28460274, 0.        ],\n",
              "       [0.        , 0.        , 0.        , 0.        , 0.        ,\n",
              "        0.        , 0.        , 0.        , 0.        , 0.        ,\n",
              "        0.        , 0.        , 0.        , 0.21331772, 0.24615064,\n",
              "        0.22559537, 0.23447005, 0.24661839, 0.25868808, 0.2459747 ,\n",
              "        0.2535186 , 0.25314211, 0.25610924, 0.25726649, 0.25708875,\n",
              "        0.27593765, 0.21500556, 0.        ],\n",
              "       [0.        , 0.        , 0.        , 0.        , 0.        ,\n",
              "        0.        , 0.        , 0.        , 0.        , 0.        ,\n",
              "        0.        , 0.        , 0.        , 0.22497443, 0.24943265,\n",
              "        0.22768422, 0.2239557 , 0.2141686 , 0.19814406, 0.22972086,\n",
              "        0.23767368, 0.24059903, 0.24353245, 0.25959469, 0.25363015,\n",
              "        0.27368509, 0.25104696, 0.        ],\n",
              "       [0.        , 0.        , 0.        , 0.        , 0.        ,\n",
              "        0.        , 0.        , 0.        , 0.        , 0.00158012,\n",
              "        0.00464404, 0.        , 0.0163131 , 0.25528186, 0.24068063,\n",
              "        0.22141768, 0.22921287, 0.20767864, 0.18603525, 0.2459747 ,\n",
              "        0.23541013, 0.24858099, 0.25610924, 0.24678957, 0.26054734,\n",
              "        0.22187639, 0.2597466 , 0.26870963],\n",
              "       [0.        , 0.        , 0.        , 0.        , 0.        ,\n",
              "        0.        , 0.        , 0.        , 0.        , 0.        ,\n",
              "        0.00928807, 0.        , 0.13458306, 0.28442363, 0.24286863,\n",
              "        0.22977306, 0.22921287, 0.2195769 , 0.21795846, 0.23947316,\n",
              "        0.24333258, 0.24287959, 0.25382255, 0.25610239, 0.28245176,\n",
              "        0.13402686, 0.20754872, 0.2893796 ],\n",
              "       [0.        , 0.        , 0.        , 0.        , 0.        ,\n",
              "        0.        , 0.        , 0.        , 0.        , 0.00632047,\n",
              "        0.        , 0.        , 0.07476837, 0.27509826, 0.24943265,\n",
              "        0.24021729, 0.23972722, 0.2595983 , 0.25538568, 0.23080445,\n",
              "        0.24672792, 0.25428239, 0.26754269, 0.25261008, 0.25017156,\n",
              "        0.23539171, 0.11433822, 0.        ],\n",
              "       [0.        , 0.        , 0.00196864, 0.00743066, 0.01073107,\n",
              "        0.01210602, 0.00340005, 0.        , 0.        , 0.        ,\n",
              "        0.        , 0.        , 0.3221837 , 0.26344156, 0.23739862,\n",
              "        0.23290633, 0.23341861, 0.23688345, 0.24437767, 0.23947316,\n",
              "        0.24446436, 0.25428239, 0.26182596, 0.25028188, 0.25132443,\n",
              "        0.28720041, 0.09569612, 0.        ],\n",
              "       [0.        , 0.00677527, 0.        , 0.        , 0.        ,\n",
              "        0.        , 0.        , 0.        , 0.        , 0.09796732,\n",
              "        0.2244617 , 0.30197776, 0.30994887, 0.24129382, 0.23302261,\n",
              "        0.23081749, 0.22921287, 0.2249852 , 0.23226887, 0.2362224 ,\n",
              "        0.2535186 , 0.25428239, 0.25039252, 0.25028188, 0.25824161,\n",
              "        0.27481137, 0.19760627, 0.        ],\n",
              "       [0.        , 0.        , 0.        , 0.        , 0.0321932 ,\n",
              "        0.07609496, 0.13940217, 0.17644206, 0.29930777, 0.36026691,\n",
              "        0.34056258, 0.32862285, 0.2949952 , 0.26344156, 0.21880057,\n",
              "        0.21410672, 0.22185283, 0.24878171, 0.24657927, 0.25355982,\n",
              "        0.19919318, 0.2143726 , 0.28583621, 0.28869724, 0.26861739,\n",
              "        0.26805371, 0.26720344, 0.        ],\n",
              "       [0.        , 0.12873017, 0.36813591, 0.38639423, 0.40062647,\n",
              "        0.38220425, 0.38080592, 0.34299018, 0.32306235, 0.33814525,\n",
              "        0.32198644, 0.30937917, 0.27188498, 0.18534163, 0.2680307 ,\n",
              "        0.20157364, 0.21659565, 0.24121009, 0.28070408, 0.27631519,\n",
              "        0.25012326, 0.26682547, 0.25267921, 0.24562547, 0.25363015,\n",
              "        0.26129606, 0.30573045, 0.        ],\n",
              "       [0.02264812, 0.45620167, 0.44885021, 0.41611686, 0.39526094,\n",
              "        0.36490994, 0.35870558, 0.35288412, 0.32464599, 0.32392419,\n",
              "        0.3173424 , 0.32566229, 0.32626197, 0.09325365, 0.16410043,\n",
              "        0.26632787, 0.24077866, 0.23904677, 0.20695046, 0.1668727 ,\n",
              "        0.21616988, 0.23945875, 0.23324234, 0.24329727, 0.25593588,\n",
              "        0.25679095, 0.27963151, 0.        ],\n",
              "       [0.73983865, 0.52621282, 0.38979097, 0.39010956, 0.39704945,\n",
              "        0.39603969, 0.38930605, 0.38586395, 0.39432611, 0.34762596,\n",
              "        0.30031428, 0.31826087, 0.2949952 , 0.28092662, 0.07111019,\n",
              "        0.07624288, 0.11145213, 0.12655417, 0.18493445, 0.23730599,\n",
              "        0.25012326, 0.24516015, 0.24810583, 0.25959469, 0.25708875,\n",
              "        0.25228585, 0.28460274, 0.14985729],\n",
              "       [0.56620305, 0.46071852, 0.41735195, 0.37896357, 0.34518263,\n",
              "        0.35453335, 0.35870558, 0.37102303, 0.34206602, 0.29232183,\n",
              "        0.30495831, 0.30493832, 0.26916613, 0.24828784, 0.26256069,\n",
              "        0.20366249, 0.23867579, 0.2650066 , 0.26309128, 0.24164034,\n",
              "        0.24672792, 0.24173931, 0.23895907, 0.25843059, 0.25363015,\n",
              "        0.24890702, 0.28584554, 0.34622202],\n",
              "       [0.36236995, 0.45846009, 0.36026135, 0.36038692, 0.38095285,\n",
              "        0.3406979 , 0.31450489, 0.31330833, 0.30722596, 0.30338266,\n",
              "        0.31269837, 0.31678059, 0.29771405, 0.2576132 , 0.24068063,\n",
              "        0.24648383, 0.23657292, 0.23363847, 0.21905926, 0.22321933,\n",
              "        0.21051098, 0.20639064, 0.20237203, 0.2002255 , 0.20866844,\n",
              "        0.2308866 , 0.25601818, 0.59426168],\n",
              "       [0.        , 0.27552774, 0.43113243, 0.35852926, 0.32014347,\n",
              "        0.2957327 , 0.31110484, 0.32320228, 0.32306235, 0.33182478,\n",
              "        0.3297265 , 0.30641861, 0.28683865, 0.24479083, 0.21880057,\n",
              "        0.20470691, 0.20397843, 0.20659698, 0.21465606, 0.2069655 ,\n",
              "        0.22409233, 0.21893371, 0.20122869, 0.18159987, 0.19252834,\n",
              "        0.19935087, 0.26098941, 0.47540935],\n",
              "       [0.        , 0.        , 0.14567945, 0.3510986 , 0.37916434,\n",
              "        0.33032132, 0.29750463, 0.28362649, 0.27713682, 0.28600136,\n",
              "        0.28638217, 0.27829323, 0.2569313 , 0.21914607, 0.21114255,\n",
              "        0.20679576, 0.21449278, 0.22606686, 0.23116807, 0.22755369,\n",
              "        0.23880546, 0.2143726 , 0.21494883, 0.22583574, 0.22134995,\n",
              "        0.24327564, 0.21127714, 0.        ],\n",
              "       [0.01509875, 0.        , 0.        , 0.        , 0.11804173,\n",
              "        0.34588619, 0.37740587, 0.39081092, 0.37848972, 0.38238856,\n",
              "        0.38081089, 0.3597088 , 0.33169967, 0.2576132 , 0.24068063,\n",
              "        0.20157364, 0.20082412, 0.19361707, 0.20034566, 0.19721319,\n",
              "        0.20485208, 0.20068924, 0.18979524, 0.1955691 , 0.11413357,\n",
              "        0.06532401, 0.        , 0.        ],\n",
              "       [0.        , 0.        , 0.        , 0.        , 0.        ,\n",
              "        0.        , 0.        , 0.06595965, 0.09660198, 0.06952519,\n",
              "        0.11145684, 0.06069161, 0.04757987, 0.        , 0.        ,\n",
              "        0.        , 0.        , 0.        , 0.        , 0.        ,\n",
              "        0.        , 0.        , 0.        , 0.        , 0.        ,\n",
              "        0.        , 0.        , 0.        ],\n",
              "       [0.        , 0.        , 0.        , 0.        , 0.        ,\n",
              "        0.        , 0.        , 0.        , 0.        , 0.        ,\n",
              "        0.        , 0.        , 0.        , 0.        , 0.        ,\n",
              "        0.        , 0.        , 0.        , 0.        , 0.        ,\n",
              "        0.        , 0.        , 0.        , 0.        , 0.        ,\n",
              "        0.        , 0.        , 0.        ],\n",
              "       [0.        , 0.        , 0.        , 0.        , 0.        ,\n",
              "        0.        , 0.        , 0.        , 0.        , 0.        ,\n",
              "        0.        , 0.        , 0.        , 0.        , 0.        ,\n",
              "        0.        , 0.        , 0.        , 0.        , 0.        ,\n",
              "        0.        , 0.        , 0.        , 0.        , 0.        ,\n",
              "        0.        , 0.        , 0.        ]])"
            ]
          },
          "metadata": {
            "tags": []
          },
          "execution_count": 5
        }
      ]
    },
    {
      "cell_type": "code",
      "metadata": {
        "id": "2DGWamJKsrEB",
        "colab_type": "code",
        "outputId": "18f1bdf8-2923-4d4f-dbd4-f7467956663c",
        "colab": {
          "base_uri": "https://localhost:8080/",
          "height": 34
        }
      },
      "source": [
        "# Transformação das labels em One Hot Encoding \n",
        "\n",
        "y_train = tf.keras.utils.to_categorical(y_train, 10)     \n",
        "y_test = tf.keras.utils.to_categorical(y_test, 10)\n",
        "\n",
        "y_train[0]"
      ],
      "execution_count": 0,
      "outputs": [
        {
          "output_type": "execute_result",
          "data": {
            "text/plain": [
              "array([0., 0., 0., 0., 0., 0., 0., 0., 0., 1.], dtype=float32)"
            ]
          },
          "metadata": {
            "tags": []
          },
          "execution_count": 6
        }
      ]
    },
    {
      "cell_type": "code",
      "metadata": {
        "id": "cDOfQdsFsvah",
        "colab_type": "code",
        "outputId": "c07e5e7d-cb2e-44ae-89b9-37c6e85061df",
        "colab": {
          "base_uri": "https://localhost:8080/",
          "height": 292
        }
      },
      "source": [
        "# Design: 784 - 220, ReLU - 86, ReLU - 10, Softmax + Cross Entropy para loss\n",
        "\n",
        "model = tf.keras.models.Sequential()\n",
        "model.add(tf.keras.layers.Flatten())  \n",
        "model.add(tf.keras.layers.Dense(220, activation=tf.nn.relu))   \n",
        "model.add(tf.keras.layers.Dense(86, activation=tf.nn.relu)) \n",
        "model.add(tf.keras.layers.Dense(10, activation=tf.nn.softmax)) \n",
        "\n",
        "opt = tf.keras.optimizers.Adam(learning_rate=0.001)\n",
        "model.compile(loss='categorical_crossentropy',\n",
        "             metrics=['accuracy'], optimizer=opt)  \n",
        "\n",
        "model.fit(x_train, y_train, epochs=5, batch_size=20)"
      ],
      "execution_count": 0,
      "outputs": [
        {
          "output_type": "stream",
          "text": [
            "WARNING:tensorflow:From /usr/local/lib/python3.6/dist-packages/tensorflow_core/python/ops/resource_variable_ops.py:1630: calling BaseResourceVariable.__init__ (from tensorflow.python.ops.resource_variable_ops) with constraint is deprecated and will be removed in a future version.\n",
            "Instructions for updating:\n",
            "If using Keras pass *_constraint arguments to layers.\n",
            "Train on 60000 samples\n",
            "Epoch 1/5\n",
            "60000/60000 [==============================] - 10s 159us/sample - loss: 0.4720 - acc: 0.8269\n",
            "Epoch 2/5\n",
            "60000/60000 [==============================] - 11s 180us/sample - loss: 0.3499 - acc: 0.8699\n",
            "Epoch 3/5\n",
            "60000/60000 [==============================] - 9s 155us/sample - loss: 0.3128 - acc: 0.8823\n",
            "Epoch 4/5\n",
            "60000/60000 [==============================] - 9s 143us/sample - loss: 0.2922 - acc: 0.8897\n",
            "Epoch 5/5\n",
            "60000/60000 [==============================] - 9s 146us/sample - loss: 0.2714 - acc: 0.8976\n"
          ],
          "name": "stdout"
        },
        {
          "output_type": "execute_result",
          "data": {
            "text/plain": [
              "<tensorflow.python.keras.callbacks.History at 0x7f43c0a39ba8>"
            ]
          },
          "metadata": {
            "tags": []
          },
          "execution_count": 7
        }
      ]
    },
    {
      "cell_type": "code",
      "metadata": {
        "id": "Stlduc1ZtfM9",
        "colab_type": "code",
        "outputId": "6ddc4cc2-2847-41a8-be66-7afc7f758659",
        "colab": {
          "base_uri": "https://localhost:8080/",
          "height": 85
        }
      },
      "source": [
        "# Avaliando performance do modelo nos dados de teste\n",
        "\n",
        "val_loss, val_acc = model.evaluate(x_test, y_test)\n",
        "print(\"\\nLoss: \", val_loss, \"\\nAccuracy: \", val_acc)"
      ],
      "execution_count": 0,
      "outputs": [
        {
          "output_type": "stream",
          "text": [
            "10000/10000 [==============================] - 0s 44us/sample - loss: 0.3311 - acc: 0.8787\n",
            "\n",
            "Loss:  0.33113939695358274 \n",
            "Accuracy:  0.8787\n"
          ],
          "name": "stdout"
        }
      ]
    },
    {
      "cell_type": "markdown",
      "metadata": {
        "id": "RYEMN5sdjQ_E",
        "colab_type": "text"
      },
      "source": [
        "## k-Fold Cross Validation\n",
        "\n",
        "Agradecimentos: Jeff Heaton \n",
        "\n",
        "```\n",
        "```\n",
        "\n",
        "Fontes:\n",
        "- https://www.youtube.com/watch?v=maiQf8ray_s\n",
        "- https://github.com/jeffheaton/t81_558_deep_learning/blob/master/t81_558_class_05_2_kfold.ipynb"
      ]
    },
    {
      "cell_type": "code",
      "metadata": {
        "id": "RQ7mal8Tt1fU",
        "colab_type": "code",
        "colab": {}
      },
      "source": [
        "from sklearn.model_selection import KFold\n",
        "from sklearn import metrics\n",
        "import numpy as np\n",
        "\n",
        "# Objeto para separar os dados em k folds com o método .split()\n",
        "k = 5\n",
        "kf = KFold(k, shuffle=False) \n",
        "\n",
        "# Listas que guardarão os resultados de loss e accuracy a cada fold\n",
        "losses = []\n",
        "accs = []\n",
        "\n",
        "\n",
        "x = x_train\n",
        "y = y_train"
      ],
      "execution_count": 0,
      "outputs": []
    },
    {
      "cell_type": "code",
      "metadata": {
        "id": "Lmfkl3FRwH6V",
        "colab_type": "code",
        "outputId": "e299a074-24c0-49cf-eddf-96d8c9227fb8",
        "colab": {
          "base_uri": "https://localhost:8080/",
          "height": 697
        }
      },
      "source": [
        "# kf.split(x) irá dividir o nosso x nos k folds definidos,\n",
        "# retornando os índices correspondentes a que dados devem\n",
        "# ser utilizados como dados de treino, e que dados devem\n",
        "# ser utilizados como dados de validação. Note que estamos\n",
        "# divindindo em treino e validação as 60mil amostras de imagens\n",
        "# separadas inicialmente para treino.\n",
        "\n",
        "fold = 0\n",
        "for train, validation in kf.split(x):\n",
        "    fold+=1\n",
        "    print(f\"Fold #{fold}\")\n",
        "    \n",
        "    # Pega os dados correspondentes destinados a treino e validação\n",
        "    x_train = x[train]\n",
        "    y_train = y[train]\n",
        "    x_val = x[validation]\n",
        "    y_val = y[validation]\n",
        "    \n",
        "    \n",
        "    # Treina um novo modelo a cada fold.\n",
        "    # Esta parte poderia ser utilizada para treinar modelos diferentes também\n",
        "    # e realizar hyperparameter tuning, ou seja, encontrar melhor valores de\n",
        "    # neurônios, camadas, learning rate, ativações, etc. Ou ainda estimar o \n",
        "    # melhor número de epochs para evitar overfitting\n",
        "    model = tf.keras.models.Sequential()\n",
        "    model.add(tf.keras.layers.Flatten())  \n",
        "    model.add(tf.keras.layers.Dense(220, activation=tf.nn.relu))   \n",
        "    model.add(tf.keras.layers.Dense(86, activation=tf.nn.relu)) \n",
        "    model.add(tf.keras.layers.Dense(10, activation=tf.nn.softmax)) \n",
        "\n",
        "    opt = tf.keras.optimizers.Adam(learning_rate=0.001)\n",
        "    model.compile(loss='categorical_crossentropy',\n",
        "                 metrics=['accuracy'], optimizer=opt)  \n",
        "    \n",
        "    model.fit(x_train, y_train, epochs=1, batch_size=20)\n",
        "\n",
        "  \n",
        "    # Métricas do fold (loss e accuracy)\n",
        "    fold_loss, fold_acc = model.evaluate(x_val, y_val)\n",
        "    print(f\"Fold loss: {fold_loss}\")\n",
        "    print(f\"Fold accuraccy: {fold_acc}\\n\\n\")\n",
        "    \n",
        "    # Guardamos estas métricas para posteriormente avaliá-las\n",
        "    losses.append(fold_loss)\n",
        "    accs.append(fold_acc)\n"
      ],
      "execution_count": 0,
      "outputs": [
        {
          "output_type": "stream",
          "text": [
            "Fold #1\n",
            "Train on 38400 samples\n",
            "38400/38400 [==============================] - 6s 166us/sample - loss: 0.5061 - acc: 0.8132\n",
            "9600/9600 [==============================] - 1s 71us/sample - loss: 0.3980 - acc: 0.8554\n",
            "Fold loss: 0.39797454059123993\n",
            "Fold accuraccy: 0.8554166555404663\n",
            "\n",
            "\n",
            "Fold #2\n",
            "Train on 38400 samples\n",
            "38400/38400 [==============================] - 7s 194us/sample - loss: 0.5069 - acc: 0.8145\n",
            "9600/9600 [==============================] - 1s 73us/sample - loss: 0.4222 - acc: 0.8466\n",
            "Fold loss: 0.42218851620952286\n",
            "Fold accuraccy: 0.8465625047683716\n",
            "\n",
            "\n",
            "Fold #3\n",
            "Train on 38400 samples\n",
            "38400/38400 [==============================] - 8s 197us/sample - loss: 0.5132 - acc: 0.8105\n",
            "9600/9600 [==============================] - 1s 73us/sample - loss: 0.4019 - acc: 0.8523\n",
            "Fold loss: 0.4018646999200185\n",
            "Fold accuraccy: 0.8522916436195374\n",
            "\n",
            "\n",
            "Fold #4\n",
            "Train on 38400 samples\n",
            "38400/38400 [==============================] - 7s 184us/sample - loss: 0.5129 - acc: 0.8089\n",
            "9600/9600 [==============================] - 1s 73us/sample - loss: 0.4092 - acc: 0.8479\n",
            "Fold loss: 0.4091868011156718\n",
            "Fold accuraccy: 0.8479166626930237\n",
            "\n",
            "\n",
            "Fold #5\n",
            "Train on 38400 samples\n",
            "38400/38400 [==============================] - 8s 197us/sample - loss: 0.5129 - acc: 0.8120\n",
            "9600/9600 [==============================] - 1s 80us/sample - loss: 0.3895 - acc: 0.8552\n",
            "Fold loss: 0.3894586065908273\n",
            "Fold accuraccy: 0.8552083373069763\n",
            "\n",
            "\n"
          ],
          "name": "stdout"
        }
      ]
    },
    {
      "cell_type": "code",
      "metadata": {
        "id": "OimYdjbE1YRG",
        "colab_type": "code",
        "outputId": "552a3682-fe03-4ba8-e752-30364fe2beba",
        "colab": {
          "base_uri": "https://localhost:8080/",
          "height": 283
        }
      },
      "source": [
        "# Plot do loss a cada fold\n",
        "\n",
        "folds = list(range(1, k+1))\n",
        "plt.plot(folds, losses, label='Loss')\n",
        "plt.ylabel('Loss')\n",
        "plt.xlabel('Folds')\n",
        "plt.show()"
      ],
      "execution_count": 0,
      "outputs": [
        {
          "output_type": "display_data",
          "data": {
            "image/png": "[encoded data removed]",
            "text/plain": [
              "<Figure size 432x288 with 1 Axes>"
            ]
          },
          "metadata": {
            "tags": []
          }
        }
      ]
    },
    {
      "cell_type": "code",
      "metadata": {
        "id": "oU4imnz06uSW",
        "colab_type": "code",
        "outputId": "a2d54758-b185-4db4-8ac2-1ec5f8f8e1c8",
        "colab": {
          "base_uri": "https://localhost:8080/",
          "height": 283
        }
      },
      "source": [
        "# Plot da accuracy a cada fold\n",
        "\n",
        "folds = list(range(1, k+1))\n",
        "plt.plot(folds, accs, label='Accuracy')\n",
        "plt.ylabel('Accuracy')\n",
        "plt.xlabel('Folds')\n",
        "plt.show()"
      ],
      "execution_count": 0,
      "outputs": [
        {
          "output_type": "display_data",
          "data": {
            "image/png": "[encoded data removed]",
            "text/plain": [
              "<Figure size 432x288 with 1 Axes>"
            ]
          },
          "metadata": {
            "tags": []
          }
        }
      ]
    },
    {
      "cell_type": "code",
      "metadata": {
        "id": "HCFowv4b61k1",
        "colab_type": "code",
        "outputId": "29e7cd99-2732-442b-864a-d703293a3397",
        "colab": {
          "base_uri": "https://localhost:8080/",
          "height": 283
        }
      },
      "source": [
        "# Plot tanto do loss quanto da accuracy de cada fold no mesmo gráfico.\n",
        "# Isso pode ser útil para não se enganar com as escalas e achar que existem\n",
        "# outliers nos dados.\n",
        "\n",
        "folds = list(range(1, k+1))\n",
        "plt.plot(folds, losses, label='Loss')\n",
        "plt.plot(folds, accs, label='Accuracy')\n",
        "plt.ylabel('Acc / Loss')\n",
        "plt.xlabel('Folds')\n",
        "plt.show()"
      ],
      "execution_count": 0,
      "outputs": [
        {
          "output_type": "display_data",
          "data": {
            "image/png": "[encoded data removed]",
            "text/plain": [
              "<Figure size 432x288 with 1 Axes>"
            ]
          },
          "metadata": {
            "tags": []
          }
        }
      ]
    },
    {
      "cell_type": "code",
      "metadata": {
        "id": "EOAWjeA0iP0P",
        "colab_type": "code",
        "colab": {}
      },
      "source": [
        ""
      ],
      "execution_count": 0,
      "outputs": []
    }
  ]
}