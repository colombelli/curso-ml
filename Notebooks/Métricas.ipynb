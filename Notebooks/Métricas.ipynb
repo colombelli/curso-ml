{
  "nbformat": 4,
  "nbformat_minor": 0,
  "metadata": {
    "colab": {
      "name": "Métricas.ipynb",
      "provenance": [],
      "collapsed_sections": []
    },
    "kernelspec": {
      "name": "python3",
      "display_name": "Python 3"
    }
  },
  "cells": [
    {
      "cell_type": "markdown",
      "metadata": {
        "id": "LUxS6IxfSxcg",
        "colab_type": "text"
      },
      "source": [
        "### Utilização de métricas mais informativas para avaliar modelos de classificação\n",
        "Autor: Felipe Colombelli\n",
        "```\n",
        "```\n",
        "GitHub: @colombelli"
      ]
    },
    {
      "cell_type": "code",
      "metadata": {
        "id": "b9hIujWPY8CN",
        "colab_type": "code",
        "outputId": "396ae2c9-37e1-4ba4-877a-356a0a26ed69",
        "colab": {
          "base_uri": "https://localhost:8080/",
          "height": 122
        }
      },
      "source": [
        "# Para carregar arquivos do drive, utilizamos as seguintes linhas de código\n",
        "\n",
        "from google.colab import drive\n",
        "drive.mount('/content/drive')"
      ],
      "execution_count": 0,
      "outputs": [
        {
          "output_type": "stream",
          "text": [
            "Go to this URL in a browser: https://accounts.google.com/o/oauth2/auth?client_id=947318989803-6bn6qk8qdgf4n4g3pfee6491hc0brc4i.apps.googleusercontent.com&redirect_uri=urn%3Aietf%3Awg%3Aoauth%3A2.0%3Aoob&scope=email%20https%3A%2F%2Fwww.googleapis.com%2Fauth%2Fdocs.test%20https%3A%2F%2Fwww.googleapis.com%2Fauth%2Fdrive%20https%3A%2F%2Fwww.googleapis.com%2Fauth%2Fdrive.photos.readonly%20https%3A%2F%2Fwww.googleapis.com%2Fauth%2Fpeopleapi.readonly&response_type=code\n",
            "\n",
            "Enter your authorization code:\n",
            "··········\n",
            "Mounted at /content/drive\n"
          ],
          "name": "stdout"
        }
      ]
    },
    {
      "cell_type": "code",
      "metadata": {
        "id": "6lTozi5iZAGY",
        "colab_type": "code",
        "colab": {}
      },
      "source": [
        "# Aqui importamos os dados de BRCA processados\n",
        "# Fonte: Rahman M, Jackson LK, Johnson WE, Li DY et al. Alternative \n",
        "# preprocessing of RNA-Sequencing data in The Cancer Genome Atlas leads to \n",
        "# improved analysis results. Bioinformatics 2015 Nov 15;31(22):3666-72. \n",
        "# PMID: 26209429\n",
        "\n",
        "import pandas as pd\n",
        "\n",
        "normalDB = pd.read_csv('/content/drive/My Drive/Curso ML/Notebooks/Dados BRCA/procNormalSamples_log2.txt', sep=\"\\t\", header='infer')\n",
        "# Lendo apenas 113 linhas dos pacientes com o tumor\n",
        "tumorDB = pd.read_csv('/content/drive/My Drive/Curso ML/Notebooks/Dados BRCA/procTumorSamples_log2.txt', sep=\"\\t\", header='infer', nrows=113)"
      ],
      "execution_count": 0,
      "outputs": []
    },
    {
      "cell_type": "code",
      "metadata": {
        "id": "8upM5-9Kbemo",
        "colab_type": "code",
        "colab": {}
      },
      "source": [
        "\n",
        "# Juntamos os dados e embaralhamos o dataframe\n",
        "merged = pd.concat([normalDB, tumorDB])\n",
        "merged = merged.sample(frac=1)"
      ],
      "execution_count": 0,
      "outputs": []
    },
    {
      "cell_type": "code",
      "metadata": {
        "id": "hxOqhIH8E9gf",
        "colab_type": "code",
        "outputId": "1f016c3a-07a4-4a91-8878-83b6bcf8388b",
        "colab": {
          "base_uri": "https://localhost:8080/",
          "height": 34
        }
      },
      "source": [
        "import tensorflow as tf\n",
        "\n",
        "# Transformamos os dataframes em numpy arrays pegando apenas as partes que \n",
        "# interessam (o x e o y)\n",
        "x = merged.loc[:, merged.columns != 'class']\n",
        "x = x.values\n",
        "y = merged.loc[:, ['class']].values\n",
        "y = y.reshape((y.shape[0],))\n",
        "\n",
        "# Seleção dos 10 atributos mais relevantes (segundo um teste chi²)\n",
        "# Para otimizar o processo, pois temos 20mil features no x\n",
        "from sklearn.feature_selection import SelectKBest\n",
        "from sklearn.feature_selection import chi2\n",
        "\n",
        "x_new = SelectKBest(chi2, k=10).fit_transform(x, y)\n",
        "y_new = tf.keras.utils.to_categorical(y, 2) \n",
        "print(x_new.shape)"
      ],
      "execution_count": 0,
      "outputs": [
        {
          "output_type": "stream",
          "text": [
            "(226, 10)\n"
          ],
          "name": "stdout"
        }
      ]
    },
    {
      "cell_type": "code",
      "metadata": {
        "id": "T6T0XW0PGNzz",
        "colab_type": "code",
        "colab": {}
      },
      "source": [
        "# Utilização de 50 amostras para treinar a rede\n",
        "# Obs: aqui foi só para que a rede não tivesse 100% de accuracy\n",
        "# e fosse possível visualizar a matriz de confusão e curva ROC\n",
        "# que normalmente vão ser encontradas (versões não perfeitas)\n",
        "\n",
        "n_train = 50\n",
        "\n",
        "x_train = x_new[0:n_train]\n",
        "x_test = x_new[n_train:]\n",
        "y_train = y_new[0:n_train]\n",
        "y_test = y_new[n_train:]"
      ],
      "execution_count": 0,
      "outputs": []
    },
    {
      "cell_type": "code",
      "metadata": {
        "id": "H2vDCqCkGh2A",
        "colab_type": "code",
        "outputId": "7ca0de73-c0c9-467c-ff17-58822f584b42",
        "colab": {
          "base_uri": "https://localhost:8080/",
          "height": 68
        }
      },
      "source": [
        "# Construção e treinamento do modelo\n",
        "\n",
        "import tensorflow as tf\n",
        "\n",
        "model = tf.keras.models.Sequential()\n",
        "model.add(tf.keras.layers.Dense(20, input_shape=(10,), activation=tf.nn.relu))  \n",
        "model.add(tf.keras.layers.Dense(15, activation=tf.nn.relu))   \n",
        "model.add(tf.keras.layers.Dense(8, activation=tf.nn.relu)) \n",
        "model.add(tf.keras.layers.Dense(2, activation=tf.nn.softmax)) \n",
        "\n",
        "opt = tf.keras.optimizers.Adam(lr=0.001)\n",
        "model.compile(loss='categorical_crossentropy',\n",
        "             metrics=['accuracy'], optimizer=opt)  \n",
        "\n",
        "model.fit(x_train, y_train, epochs=1, batch_size=6)"
      ],
      "execution_count": 0,
      "outputs": [
        {
          "output_type": "stream",
          "text": [
            "Train on 50 samples\n",
            "50/50 [==============================] - 0s 4ms/sample - loss: 0.4274 - acc: 0.9000\n"
          ],
          "name": "stdout"
        },
        {
          "output_type": "execute_result",
          "data": {
            "text/plain": [
              "<tensorflow.python.keras.callbacks.History at 0x7fa81f9e7f98>"
            ]
          },
          "metadata": {
            "tags": []
          },
          "execution_count": 58
        }
      ]
    },
    {
      "cell_type": "code",
      "metadata": {
        "id": "aN8mDY5EHwo8",
        "colab_type": "code",
        "outputId": "230b6e00-5d43-44d5-9b47-8d517733ada4",
        "colab": {
          "base_uri": "https://localhost:8080/",
          "height": 34
        }
      },
      "source": [
        "# Avaliação do modelo\n",
        "\n",
        "val_loss, val_acc = model.evaluate(x_test, y_test)"
      ],
      "execution_count": 0,
      "outputs": [
        {
          "output_type": "stream",
          "text": [
            "176/176 [==============================] - 0s 890us/sample - loss: 0.3512 - acc: 0.9375\n"
          ],
          "name": "stdout"
        }
      ]
    },
    {
      "cell_type": "code",
      "metadata": {
        "id": "lqqmzb-xIqOT",
        "colab_type": "code",
        "outputId": "c5ded323-0033-4900-cdf1-56d66988e481",
        "colab": {
          "base_uri": "https://localhost:8080/",
          "height": 272
        }
      },
      "source": [
        "import numpy as np\n",
        "from sklearn.metrics import classification_report, confusion_matrix\n",
        "\n",
        "# De OHE para classe inteira novamente\n",
        "y_test_classes = np.argmax(y_test, axis=1)\n",
        "\n",
        "# A confusion matrix construída pelo scikit-learn é estruturada\n",
        "#\n",
        "#                  #Classificados como Saudável  #Classificados como Doente\n",
        "#                  |---------------------------|---------------------------|\n",
        "# #Saudáveis reais |            TN             |           FP              |\n",
        "#                  |---------------------------|---------------------------|  \n",
        "# #Doentes reais   |            FN             |           TP              |\n",
        "#                  |---------------------------|---------------------------|\n",
        "#\n",
        "# Ou mais genérico: eixo y: qtd real da classe; eixo x: qtd predita da classe\n",
        "#\n",
        "# TN: true negative - não tinham a doença e foram corretamente classificados\n",
        "# FN: false negative - tinham a doença e foram classificados como saudáveis\n",
        "# FP: false positive - não tinham a doença e foram classificados como doentes\n",
        "# TP: true positive - tinham a doença e foram corretamente classificados\n",
        "\n",
        "# Confution Matrix and Classification Report\n",
        "Y_pred = model.predict(x_test)\n",
        "y_pred = np.argmax(Y_pred, axis=1)\n",
        "\n",
        "cf = confusion_matrix(y_test_classes, y_pred)\n",
        "print('Confusion Matrix')\n",
        "print(cf)\n",
        "print('\\n\\nClassification Report')\n",
        "print(classification_report(y_test_classes, y_pred, target_names=['Saudável', 'Doente']))"
      ],
      "execution_count": 0,
      "outputs": [
        {
          "output_type": "stream",
          "text": [
            "Confusion Matrix\n",
            "[[85  3]\n",
            " [ 8 80]]\n",
            "\n",
            "\n",
            "Classification Report\n",
            "              precision    recall  f1-score   support\n",
            "\n",
            "    Saudável       0.91      0.97      0.94        88\n",
            "      Doente       0.96      0.91      0.94        88\n",
            "\n",
            "    accuracy                           0.94       176\n",
            "   macro avg       0.94      0.94      0.94       176\n",
            "weighted avg       0.94      0.94      0.94       176\n",
            "\n"
          ],
          "name": "stdout"
        }
      ]
    },
    {
      "cell_type": "code",
      "metadata": {
        "id": "vY-I1M1YoWqO",
        "colab_type": "code",
        "colab": {}
      },
      "source": [
        "# Pegando as probabilidades da classe positiva (1: \"tem a doença\")\n",
        "# que serão utilizadas para na função roc_curve() do scikit-learn\n",
        "\n",
        "pclass =[]\n",
        "for pred in Y_pred:\n",
        "  pclass.append(pred[1])\n",
        "  \n",
        "pclass = np.array(pclass)"
      ],
      "execution_count": 0,
      "outputs": []
    },
    {
      "cell_type": "code",
      "metadata": {
        "id": "ur_4hMyhRRWU",
        "colab_type": "code",
        "colab": {}
      },
      "source": [
        "from matplotlib import pyplot\n",
        "from sklearn.metrics import roc_curve\n",
        "from sklearn.metrics import roc_auc_score\n",
        "\n",
        "fpr, tpr, thresholds = roc_curve(y_test_classes, pclass)"
      ],
      "execution_count": 0,
      "outputs": []
    },
    {
      "cell_type": "code",
      "metadata": {
        "id": "LbHti9DRoTiT",
        "colab_type": "code",
        "outputId": "535d8f6b-9580-4655-a845-b61730624371",
        "colab": {
          "base_uri": "https://localhost:8080/",
          "height": 34
        }
      },
      "source": [
        "# Cálculo da AUC\n",
        "\n",
        "auc = roc_auc_score(y_test_classes, pclass)\n",
        "print('AUC: %.3f' % auc)"
      ],
      "execution_count": 0,
      "outputs": [
        {
          "output_type": "stream",
          "text": [
            "AUC: 0.984\n"
          ],
          "name": "stdout"
        }
      ]
    },
    {
      "cell_type": "code",
      "metadata": {
        "id": "e1FpuHi7oxek",
        "colab_type": "code",
        "outputId": "7df8a2c1-a02f-4ad5-c437-207861ba6ded",
        "colab": {
          "base_uri": "https://localhost:8080/",
          "height": 283
        }
      },
      "source": [
        "# Plot da curva ROC para o modelo proposto\n",
        "\n",
        "pyplot.plot(fpr, tpr)\n",
        "pyplot.xlabel('1-Specificity')\n",
        "pyplot.ylabel('Sensivity')\n",
        "pyplot.show()"
      ],
      "execution_count": 0,
      "outputs": [
        {
          "output_type": "display_data",
          "data": {
            "image/png": "[encoded data removed]",
            "text/plain": [
              "<Figure size 432x288 with 1 Axes>"
            ]
          },
          "metadata": {
            "tags": []
          }
        }
      ]
    },
    {
      "cell_type": "code",
      "metadata": {
        "id": "cUHWC_qCpFXt",
        "colab_type": "code",
        "outputId": "29f94232-9f68-4ba4-8647-f77996158282",
        "colab": {
          "base_uri": "https://localhost:8080/",
          "height": 102
        }
      },
      "source": [
        "# Thresholds testados:\n",
        "thresholds\n",
        "# Segundo a documentação do scikit-learn:\n",
        "# thresholds[0] represents no instances being predicted \n",
        "# and is arbitrarily set to max(y_score) + 1."
      ],
      "execution_count": 0,
      "outputs": [
        {
          "output_type": "execute_result",
          "data": {
            "text/plain": [
              "array([1.8584425 , 0.8584425 , 0.56184274, 0.55702424, 0.52349657,\n",
              "       0.5119216 , 0.50418067, 0.47764653, 0.47608408, 0.4664317 ,\n",
              "       0.466205  , 0.46352327, 0.45032296, 0.44969168, 0.44265524,\n",
              "       0.41887438, 0.41811356, 0.33089986, 0.31815535, 0.23747367,\n",
              "       0.22346514, 0.18834393, 0.18806872, 0.05148457], dtype=float32)"
            ]
          },
          "metadata": {
            "tags": []
          },
          "execution_count": 65
        }
      ]
    },
    {
      "cell_type": "code",
      "metadata": {
        "id": "JaCNeeJWqip0",
        "colab_type": "code",
        "outputId": "b0f1e429-3947-405a-af7f-f6179d1a82e6",
        "colab": {
          "base_uri": "https://localhost:8080/",
          "height": 187
        }
      },
      "source": [
        "print(tpr)\n",
        "print(\"\\n\")\n",
        "print(fpr)"
      ],
      "execution_count": 0,
      "outputs": [
        {
          "output_type": "stream",
          "text": [
            "[0.         0.01136364 0.78409091 0.78409091 0.88636364 0.88636364\n",
            " 0.90909091 0.90909091 0.92045455 0.92045455 0.93181818 0.93181818\n",
            " 0.94318182 0.94318182 0.95454545 0.95454545 0.96590909 0.96590909\n",
            " 0.97727273 0.97727273 0.98863636 0.98863636 1.         1.        ]\n",
            "\n",
            "\n",
            "[0.         0.         0.         0.01136364 0.01136364 0.03409091\n",
            " 0.03409091 0.04545455 0.04545455 0.05681818 0.05681818 0.06818182\n",
            " 0.06818182 0.07954545 0.07954545 0.09090909 0.09090909 0.17045455\n",
            " 0.17045455 0.28409091 0.28409091 0.42045455 0.42045455 1.        ]\n"
          ],
          "name": "stdout"
        }
      ]
    },
    {
      "cell_type": "code",
      "metadata": {
        "id": "RV6FCNoRyD0u",
        "colab_type": "code",
        "colab": {}
      },
      "source": [
        ""
      ],
      "execution_count": 0,
      "outputs": []
    }
  ]
}