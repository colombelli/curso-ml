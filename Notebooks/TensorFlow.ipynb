{
  "nbformat": 4,
  "nbformat_minor": 0,
  "metadata": {
    "colab": {
      "name": "TensorFlow.ipynb",
      "provenance": [],
      "collapsed_sections": []
    },
    "kernelspec": {
      "name": "python3",
      "display_name": "Python 3"
    }
  },
  "cells": [
    {
      "cell_type": "markdown",
      "metadata": {
        "id": "ZKNRC013eGSj",
        "colab_type": "text"
      },
      "source": [
        "## Entendendo TensorFlow\n",
        "\n",
        "\n",
        "---\n",
        "Autor: Felipe Colombelli\n",
        "```\n",
        "```\n",
        "GitHub: @colombelli\n",
        "```\n",
        "```\n",
        "Agradecimentos: Big Data University & Cognitive Class\n",
        "\n",
        "https://www.youtube.com/watch?v=MrijcdNl_U4&list=PL-XeOa5hMEYxNzHM7YLRjIwE1k3VQpqEh&index=1"
      ]
    },
    {
      "cell_type": "code",
      "metadata": {
        "id": "h6HuGqZ4eEIO",
        "colab_type": "code",
        "colab": {}
      },
      "source": [
        "import tensorflow as tf\n",
        "\n",
        "# Vamos começar construindo um grafo que utiliza 'source operations' e não \n",
        "# requer nenhum tipo de input\n",
        "\n",
        "# Primeiro definimos duas constantes\n",
        "a = tf.constant(3)\n",
        "b = tf.constant(4)\n",
        "\n",
        "# Fazemos, então, uma operação sobre esses valores\n",
        "s = tf.add(a, b) \n",
        "# s = a + b também poderia ser utilizado para expressar a mesma coisa"
      ],
      "execution_count": 0,
      "outputs": []
    },
    {
      "cell_type": "code",
      "metadata": {
        "id": "UMOx7unoeFLB",
        "colab_type": "code",
        "outputId": "f7c1c225-51f5-48b7-ff97-91a19ab6d46f",
        "colab": {
          "base_uri": "https://localhost:8080/",
          "height": 35
        }
      },
      "source": [
        "# Vamos observar o valor de s\n",
        "print(s)"
      ],
      "execution_count": 0,
      "outputs": [
        {
          "output_type": "stream",
          "text": [
            "Tensor(\"Add_5:0\", shape=(), dtype=int32)\n"
          ],
          "name": "stdout"
        }
      ]
    },
    {
      "cell_type": "code",
      "metadata": {
        "id": "VI2ZYHu5pQCG",
        "colab_type": "code",
        "outputId": "3ba6170b-c2e5-4917-ffb8-8267f040b948",
        "colab": {
          "base_uri": "https://localhost:8080/",
          "height": 52
        }
      },
      "source": [
        "# Como grafos precisam ser executados no contexto de uma session,\n",
        "# primeiro devemos definir esta session para que então possamos executá-lo\n",
        "\n",
        "session = tf.Session()\n",
        "resultado = session.run(s)\n",
        "print(resultado)\n",
        "print(s)"
      ],
      "execution_count": 0,
      "outputs": [
        {
          "output_type": "stream",
          "text": [
            "7\n",
            "Tensor(\"Add_5:0\", shape=(), dtype=int32)\n"
          ],
          "name": "stdout"
        }
      ]
    },
    {
      "cell_type": "code",
      "metadata": {
        "id": "pvUMkL8Gpri1",
        "colab_type": "code",
        "colab": {}
      },
      "source": [
        "# Para liberar recursos computacionais, podemos fechar a session\n",
        "session.close()"
      ],
      "execution_count": 0,
      "outputs": []
    },
    {
      "cell_type": "code",
      "metadata": {
        "id": "KRereiEBp41l",
        "colab_type": "code",
        "outputId": "9acda6b4-fa73-48b7-e6e2-03df24adfd24",
        "colab": {
          "base_uri": "https://localhost:8080/",
          "height": 35
        }
      },
      "source": [
        "# Para evitar fechar as sessions toda vez, podemos utilizá-las\n",
        "# com um bloco with e, então, depois de executar todo o bloco,\n",
        "# a session será fechada automaticamente\n",
        "\n",
        "with tf.Session() as session:\n",
        "  resultado = session.run(s)\n",
        "  print(resultado)"
      ],
      "execution_count": 0,
      "outputs": [
        {
          "output_type": "stream",
          "text": [
            "7\n"
          ],
          "name": "stdout"
        }
      ]
    },
    {
      "cell_type": "code",
      "metadata": {
        "id": "GJpJe7uFqmvM",
        "colab_type": "code",
        "outputId": "2eee9e23-2af7-4eff-f2ef-46d46a6e18d0",
        "colab": {
          "base_uri": "https://localhost:8080/",
          "height": 86
        }
      },
      "source": [
        "# Tensors são simplesmente arrrays multi-dimensionais\n",
        "matriz = tf.constant([[4,1,1],[3,2,2],[1,1,1]])\n",
        "with tf.Session() as session:\n",
        "  print(matriz)\n",
        "  resultado = session.run(matriz)\n",
        "  print(resultado)"
      ],
      "execution_count": 0,
      "outputs": [
        {
          "output_type": "stream",
          "text": [
            "Tensor(\"Const_2:0\", shape=(3, 3), dtype=int32)\n",
            "[[4 1 1]\n",
            " [3 2 2]\n",
            " [1 1 1]]\n"
          ],
          "name": "stdout"
        }
      ]
    },
    {
      "cell_type": "code",
      "metadata": {
        "id": "PWyY4shqtj8f",
        "colab_type": "code",
        "colab": {}
      },
      "source": [
        "# Variables podem ser definidas da seguinte forma\n",
        "estado = tf.Variable(0)\n",
        "\n",
        "# Varibles precisam ser inicializadas antes de executar o grafo numa session\n",
        "# Vamos criar um contador como exemplo\n",
        "\n",
        "# Primeiro construimos o grafo\n",
        "um = tf.constant(1)\n",
        "novoValor = tf.add(estado, um)\n",
        "update = tf.assign(estado, novoValor)\n",
        "\n",
        "# Depois, inicializamos as variáveis\n",
        "initOp = tf.global_variables_initializer()"
      ],
      "execution_count": 0,
      "outputs": []
    },
    {
      "cell_type": "code",
      "metadata": {
        "id": "uSQ8MmLNvSv9",
        "colab_type": "code",
        "outputId": "6481966e-650d-496d-deb4-e2448f9c3579",
        "colab": {
          "base_uri": "https://localhost:8080/",
          "height": 86
        }
      },
      "source": [
        "# Finalmente podemos iniciar uma session e executar o grafo\n",
        "with tf.Session() as session:\n",
        "  session.run(initOp)\n",
        "  print(session.run(estado))\n",
        "  for i in range(3):\n",
        "    session.run(update)\n",
        "    print(session.run(estado))"
      ],
      "execution_count": 0,
      "outputs": [
        {
          "output_type": "stream",
          "text": [
            "0\n",
            "1\n",
            "2\n",
            "3\n"
          ],
          "name": "stdout"
        }
      ]
    },
    {
      "cell_type": "code",
      "metadata": {
        "id": "8Hw50WKRvznm",
        "colab_type": "code",
        "outputId": "e5327c0b-f8c4-4d20-8870-933707a6f8d6",
        "colab": {
          "base_uri": "https://localhost:8080/",
          "height": 34
        }
      },
      "source": [
        "# Se você quiser alimentar o TF com dados de fora do modelo,\n",
        "# você precisará de placeholders\n",
        "\n",
        "# Um placeholder pode ser pensado simplesmente como uma variable \n",
        "# que não vai de fato receber seu dado até um ponto mais adiante\n",
        "\n",
        "# Para criar um placeholder, é necessário especificar um tipo de dado\n",
        "# bem como sua precisão (32 bits, 64 bits, etc)\n",
        "\n",
        "# Por exemplo\n",
        "a = tf.placeholder(tf.float32)\n",
        "b = a*2\n",
        "\n",
        "# Agora, para rodar o grafo precisamos passar um valor para o placeholder\n",
        "# Isso é feito através do argumento feed_dict, no qual você deve passar\n",
        "# um dicionário com o nome do placeholder e o dado que ele passará a segurar\n",
        "\n",
        "with tf.Session() as s:\n",
        "  resultado = s.run(b, feed_dict={a:3.5})\n",
        "\n",
        "print(resultado)"
      ],
      "execution_count": 0,
      "outputs": [
        {
          "output_type": "stream",
          "text": [
            "7.0\n"
          ],
          "name": "stdout"
        }
      ]
    },
    {
      "cell_type": "code",
      "metadata": {
        "id": "rNZjWtKQ1Gmn",
        "colab_type": "code",
        "outputId": "2ec3dc6c-d423-4f62-d930-21de4ff88996",
        "colab": {
          "base_uri": "https://localhost:8080/",
          "height": 86
        }
      },
      "source": [
        "# A beleza da coisa é que podemos passar qualquer tipo de tensor como\n",
        "# input para o placeholder e a operação será executada \n",
        "\n",
        "dicio = {a: [\n",
        "    [2,3,4,5],\n",
        "    [1,1,1,1],\n",
        "    [3.2,4.5,1.4,2],\n",
        "    [5,5,5,5]\n",
        "]}\n",
        "\n",
        "with tf.Session() as s:\n",
        "  resultado = s.run(b, feed_dict=dicio)\n",
        "\n",
        "print(resultado)"
      ],
      "execution_count": 0,
      "outputs": [
        {
          "output_type": "stream",
          "text": [
            "[[ 4.   6.   8.  10. ]\n",
            " [ 2.   2.   2.   2. ]\n",
            " [ 6.4  9.   2.8  4. ]\n",
            " [10.  10.  10.  10. ]]\n"
          ],
          "name": "stdout"
        }
      ]
    },
    {
      "cell_type": "markdown",
      "metadata": {
        "id": "XVHOyxEqeNmo",
        "colab_type": "text"
      },
      "source": [
        "## MLPs with TensorFlow"
      ]
    },
    {
      "cell_type": "code",
      "metadata": {
        "id": "BxuffinXdmDb",
        "colab_type": "code",
        "colab": {}
      },
      "source": [
        "# Carregando o MNIST\n",
        "import keras\n",
        "\n",
        "(x_train, y_train), (x_test, y_test) = keras.datasets.mnist.load_data()\n",
        "    \n",
        "# Normalização dos dados (imagens onde cada pixel tem um valor de 0 a 255)\n",
        "x_train = x_train.astype(float) / 255.\n",
        "x_test = x_test.astype(float) / 255."
      ],
      "execution_count": 0,
      "outputs": []
    },
    {
      "cell_type": "code",
      "metadata": {
        "id": "GFeuTlK9fjjC",
        "colab_type": "code",
        "outputId": "d0675b30-fe64-4e68-db4f-88b2d042dee5",
        "colab": {
          "base_uri": "https://localhost:8080/",
          "height": 287
        }
      },
      "source": [
        "# Investigando dimensões\n",
        "print(x_train.shape, y_train.shape)\n",
        "\n",
        "\n",
        "# Visualização do primeiro dígito\n",
        "import matplotlib.pyplot as plt\n",
        "plt.imshow(x_train[0], cmap=\"gray\");"
      ],
      "execution_count": 0,
      "outputs": [
        {
          "output_type": "stream",
          "text": [
            "(60000, 28, 28) (60000,)\n"
          ],
          "name": "stdout"
        },
        {
          "output_type": "display_data",
          "data": {
            "image/png": "[encoded data removed]",
            "text/plain": [
              "<Figure size 432x288 with 1 Axes>"
            ]
          },
          "metadata": {
            "tags": []
          }
        }
      ]
    },
    {
      "cell_type": "code",
      "metadata": {
        "id": "o7164EZYgLyT",
        "colab_type": "code",
        "outputId": "9e736470-457e-464a-dac6-ad2705aae67f",
        "colab": {
          "base_uri": "https://localhost:8080/",
          "height": 87
        }
      },
      "source": [
        "# Transformando a matriz 28x28 em um array de tamanho 784\n",
        "x_train = x_train.reshape((x_train.shape[0], 784))\n",
        "x_test = x_test.reshape((x_test.shape[0], 784))\n",
        "print('Train dimension:')\n",
        "print(x_train.shape)\n",
        "print('Test dimension:')\n",
        "print(x_test.shape)"
      ],
      "execution_count": 0,
      "outputs": [
        {
          "output_type": "stream",
          "text": [
            "Train dimension:\n",
            "(60000, 784)\n",
            "Test dimension:\n",
            "(10000, 784)\n"
          ],
          "name": "stdout"
        }
      ]
    },
    {
      "cell_type": "code",
      "metadata": {
        "id": "R4iThLHAZ13Q",
        "colab_type": "code",
        "outputId": "aa117f42-b797-4d61-c700-bc21c1b34ab5",
        "colab": {
          "base_uri": "https://localhost:8080/",
          "height": 347
        }
      },
      "source": [
        "# Entendendo o np.shape()\n",
        "import numpy as np\n",
        "a = np.array([\n",
        "    \n",
        "    [\n",
        "    [1,1,1],\n",
        "    [1,1,1],\n",
        "    [1,1,1]\n",
        "    ],\n",
        "    \n",
        "    [\n",
        "    [2,2,2],\n",
        "    [2,2,2],\n",
        "    [2,2,2]\n",
        "    ],\n",
        "    \n",
        "    [\n",
        "    [3,3,3],\n",
        "    [3,3,3],\n",
        "    [3,3,3]\n",
        "    ],\n",
        "])\n",
        "\n",
        "# O ponto é, os shapes devem ser compatíveis, se você tem um array \n",
        "# com 27 elementos, não pode dar reshape para 3x1, deve ser algo\n",
        "# do tipo 3x9, 9x3, 3x3x3, 27, etc.\n",
        "b = np.reshape(a, (a.shape[0], -1))\n",
        "c = a.reshape(27)\n",
        "print(a.shape, b.shape, c.shape)\n",
        "print(\"\\n\", a, \"\\n\\n\", b, \"\\n\\n\", c)"
      ],
      "execution_count": 0,
      "outputs": [
        {
          "output_type": "stream",
          "text": [
            "(3, 3, 3) (3, 9) (27,)\n",
            "\n",
            " [[[1 1 1]\n",
            "  [1 1 1]\n",
            "  [1 1 1]]\n",
            "\n",
            " [[2 2 2]\n",
            "  [2 2 2]\n",
            "  [2 2 2]]\n",
            "\n",
            " [[3 3 3]\n",
            "  [3 3 3]\n",
            "  [3 3 3]]] \n",
            "\n",
            " [[1 1 1 1 1 1 1 1 1]\n",
            " [2 2 2 2 2 2 2 2 2]\n",
            " [3 3 3 3 3 3 3 3 3]] \n",
            "\n",
            " [1 1 1 1 1 1 1 1 1 2 2 2 2 2 2 2 2 2 3 3 3 3 3 3 3 3 3]\n"
          ],
          "name": "stdout"
        }
      ]
    },
    {
      "cell_type": "code",
      "metadata": {
        "id": "SCJRas0kgXv5",
        "colab_type": "code",
        "outputId": "9aa9b0b4-8b70-4daf-db3a-731facaa8a4f",
        "colab": {
          "base_uri": "https://localhost:8080/",
          "height": 121
        }
      },
      "source": [
        "# Trocando as labels para one-hot encoding\n",
        "from sklearn.preprocessing import LabelBinarizer\n",
        "\n",
        "lb = LabelBinarizer()\n",
        "y_train = lb.fit_transform(y_train)\n",
        "y_test = lb.fit_transform(y_test)\n",
        "\n",
        "print(\"Novas dimensões\")\n",
        "print(y_train.shape)\n",
        "print(y_test.shape)\n",
        "print(\"\\nExemplo de label para a primeira amostra de treino:\")\n",
        "print(y_train[0])"
      ],
      "execution_count": 0,
      "outputs": [
        {
          "output_type": "stream",
          "text": [
            "Novas dimensões\n",
            "(60000, 10)\n",
            "(10000, 10)\n",
            "\n",
            "Exemplo de label para a primeira amostra de treino:\n",
            "[0 0 0 0 0 1 0 0 0 0]\n"
          ],
          "name": "stdout"
        }
      ]
    },
    {
      "cell_type": "code",
      "metadata": {
        "id": "OBLNCbEBgd_C",
        "colab_type": "code",
        "outputId": "b9b1de32-d01e-4f95-e37a-c0da60ae80c5",
        "colab": {
          "base_uri": "https://localhost:8080/",
          "height": 72
        }
      },
      "source": [
        "# Bibliotecas utilizadas para a construção da rede\n",
        "\n",
        "import numpy as np\n",
        "import tensorflow as tf\n",
        "from sklearn.metrics import accuracy_score\n",
        "s = tf.InteractiveSession()"
      ],
      "execution_count": 0,
      "outputs": [
        {
          "output_type": "stream",
          "text": [
            "/usr/local/lib/python3.6/dist-packages/tensorflow_core/python/client/session.py:1750: UserWarning: An interactive session is already active. This can cause out-of-memory errors in some cases. You must explicitly call `InteractiveSession.close()` to release resources held by the other session(s).\n",
            "  warnings.warn('An interactive session is already active. This can '\n"
          ],
          "name": "stderr"
        }
      ]
    },
    {
      "cell_type": "code",
      "metadata": {
        "id": "gUeV5DTKjST4",
        "colab_type": "code",
        "colab": {}
      },
      "source": [
        "# Definição dos parâmetros de inicialização\n",
        "# Modelo do tipo MLP com design 784-16-16-10\n",
        "\n",
        "num_classes = y_train.shape[1]   # 10 classes representando os 10 dígitos\n",
        "num_features = x_train.shape[1]  # 784 pixels (inputs ou features)\n",
        "num_output = y_train.shape[1]    # 10 (vetor OHE)\n",
        "num_layers_0 = 16\n",
        "num_layers_1 = 16\n",
        "learning_rate = 0.001"
      ],
      "execution_count": 0,
      "outputs": []
    },
    {
      "cell_type": "code",
      "metadata": {
        "id": "KLwiTNhDl3QN",
        "colab_type": "code",
        "colab": {}
      },
      "source": [
        "# Placeholders para o input de dados\n",
        "\n",
        "# A primeira dimensão em shape com o valor None oferece flexibilidade\n",
        "# para alimentar o placeholder com o número desejado de amostras\n",
        "# Por exemplo, em batches, poderíamos feedar o placeholer com 32, 50, 40 ou \n",
        "# qualquer outro número de amostras de uma vez; ou para fazer a avaliação\n",
        "# dos dados de teste, feedando o placeholder com todas as amostras\n",
        "\n",
        "input_x = tf.placeholder('float32', shape =(None,num_features), name=\"input_x\")\n",
        "input_y = tf.placeholder('float32', shape =(None,num_classes), name=\"input_y\")"
      ],
      "execution_count": 0,
      "outputs": []
    },
    {
      "cell_type": "code",
      "metadata": {
        "id": "mywxzTO7m02K",
        "colab_type": "code",
        "colab": {}
      },
      "source": [
        "# Os pesos e bias são inicializados por uma gaussiana com desvio padrão de = 1/sqrt(número de features)\n",
        "# Onde o número de features é igual ao número de pixels, 784\n",
        "weights_0 = tf.Variable(tf.random_normal([num_features, num_layers_0], stddev=(1/tf.sqrt(float(num_features)))))\n",
        "bias_0 = tf.Variable(tf.random_normal([num_layers_0]))\n",
        "\n",
        "weights_1 = tf.Variable(tf.random_normal([num_layers_0,num_layers_1], stddev=(1/tf.sqrt(float(num_layers_0)))))\n",
        "bias_1 = tf.Variable(tf.random_normal([num_layers_1]))\n",
        "\n",
        "weights_2 = tf.Variable(tf.random_normal([num_layers_1,num_output], stddev=(1/tf.sqrt(float(num_layers_1)))))\n",
        "bias_2 = tf.Variable(tf.random_normal([num_output]))"
      ],
      "execution_count": 0,
      "outputs": []
    },
    {
      "cell_type": "code",
      "metadata": {
        "id": "u5519UGbnPb0",
        "colab_type": "code",
        "outputId": "9d7581e7-d9aa-4049-f1e7-563f4babcf36",
        "colab": {
          "base_uri": "https://localhost:8080/",
          "height": 35
        }
      },
      "source": [
        "# Shape da matriz de pesos da primeira conexão entre camadas\n",
        "tf.random_normal([num_features, num_layers_0], stddev=(1/tf.sqrt(float(num_features))))"
      ],
      "execution_count": 0,
      "outputs": [
        {
          "output_type": "execute_result",
          "data": {
            "text/plain": [
              "<tf.Tensor 'random_normal_14:0' shape=(784, 16) dtype=float32>"
            ]
          },
          "metadata": {
            "tags": []
          },
          "execution_count": 57
        }
      ]
    },
    {
      "cell_type": "code",
      "metadata": {
        "id": "mBDYAKtKnh1Z",
        "colab_type": "code",
        "outputId": "f888c8a1-e8a2-4ba2-f5c6-13e786d86bbb",
        "colab": {
          "base_uri": "https://localhost:8080/",
          "height": 35
        }
      },
      "source": [
        "# Shape dos biases da primeira conexão entre camadas\n",
        "tf.Variable(tf.random_normal([num_layers_0]))"
      ],
      "execution_count": 0,
      "outputs": [
        {
          "output_type": "execute_result",
          "data": {
            "text/plain": [
              "<tf.Variable 'Variable_14:0' shape=(16,) dtype=float32_ref>"
            ]
          },
          "metadata": {
            "tags": []
          },
          "execution_count": 58
        }
      ]
    },
    {
      "cell_type": "code",
      "metadata": {
        "id": "1PbH8017oDwh",
        "colab_type": "code",
        "colab": {}
      },
      "source": [
        "# Construção do grafo:\n",
        "# Hidden layers com ReLU como função de ativação\n",
        "# e logits (as predições ainda não normalizadas) com Softmax\n",
        "\n",
        "hidden_output_0 = tf.nn.relu(tf.matmul(input_x, weights_0) + bias_0)\n",
        "hidden_output_1 = tf.nn.relu(tf.matmul(hidden_output_0, weights_1) + bias_1)\n",
        "\n",
        "predicted_y = tf.nn.softmax(tf.matmul(hidden_output_1, weights_2) + bias_2)"
      ],
      "execution_count": 0,
      "outputs": []
    },
    {
      "cell_type": "code",
      "metadata": {
        "id": "S3CBRcYR2lZm",
        "colab_type": "code",
        "colab": {}
      },
      "source": [
        "# Definição da loss function\n",
        "loss = tf.reduce_mean(tf.nn.softmax_cross_entropy_with_logits_v2(logits=predicted_y, labels=input_y))"
      ],
      "execution_count": 0,
      "outputs": []
    },
    {
      "cell_type": "code",
      "metadata": {
        "id": "0ZQAMgJ12x_M",
        "colab_type": "code",
        "colab": {}
      },
      "source": [
        "# Adam optimzer para minimizar o custo\n",
        "optimizer = tf.train.AdamOptimizer(learning_rate).minimize(loss)"
      ],
      "execution_count": 0,
      "outputs": []
    },
    {
      "cell_type": "code",
      "metadata": {
        "id": "mvf9FKDT3HsX",
        "colab_type": "code",
        "colab": {}
      },
      "source": [
        "# Definição do cálculo de accuracy\n",
        "# O parâmetro 1 em argmax significa que queremos procurar num array de 2-D\n",
        "# Isso porque temos uma lista de predições, que por sua vez são uma lista\n",
        "# em one-hot encoding\n",
        "correct_prediction = tf.equal(tf.argmax(y_train, 1), tf.argmax(predicted_y, 1))\n",
        "accuracy = tf.reduce_mean(tf.cast(correct_prediction, tf.float32))"
      ],
      "execution_count": 0,
      "outputs": []
    },
    {
      "cell_type": "code",
      "metadata": {
        "id": "TV2QQIFN3Vma",
        "colab_type": "code",
        "colab": {}
      },
      "source": [
        "# Parâmetros de treino\n",
        "\n",
        "batch_size = 5\n",
        "epochs=5\n",
        "\n",
        "training_accuracy = []\n",
        "training_loss = []\n",
        "testing_accuracy = []"
      ],
      "execution_count": 0,
      "outputs": []
    },
    {
      "cell_type": "code",
      "metadata": {
        "id": "SJOvsjcbF3gv",
        "colab_type": "code",
        "outputId": "78844a4d-875c-4a52-83a8-e9aef688bfbb",
        "colab": {
          "base_uri": "https://localhost:8080/",
          "height": 69
        }
      },
      "source": [
        "# Indexação de numpy arrays\n",
        "\n",
        "a = np.array([\"a\", \"b\", \"c\"])\n",
        "print(a[[2,0,1]])\n",
        "\n",
        "b = [0,0,0]\n",
        "print(a[b])\n",
        "\n",
        "c = [0,2]\n",
        "print(a[c])"
      ],
      "execution_count": 0,
      "outputs": [
        {
          "output_type": "stream",
          "text": [
            "['c' 'a' 'b']\n",
            "['a' 'a' 'a']\n",
            "['a' 'c']\n"
          ],
          "name": "stdout"
        }
      ]
    },
    {
      "cell_type": "code",
      "metadata": {
        "id": "2br2M4iz3fED",
        "colab_type": "code",
        "outputId": "eea577fb-b95f-477f-ce99-55a332a0d337",
        "colab": {
          "base_uri": "https://localhost:8080/",
          "height": 104
        }
      },
      "source": [
        "s.run(tf.global_variables_initializer())\n",
        "\n",
        "for epoch in range(epochs):    \n",
        "    \n",
        "    arr = np.arange(x_train.shape[0])   # Constrói um array de 0 a 59999\n",
        "    np.random.shuffle(arr)   # Randomiza a ordem desses valores no array\n",
        "    \n",
        "    # Loop de treino considerando treinamento em batches\n",
        "    for index in range(0, x_train.shape[0], batch_size):\n",
        "        s.run(optimizer, {\n",
        "                          input_x: x_train[arr[index:index+batch_size]],\n",
        "                          input_y: y_train[arr[index:index+batch_size]]\n",
        "                         })\n",
        "    \n",
        "    \n",
        "    # Coleta de métricas da epoch\n",
        "    training_accuracy.append(s.run(accuracy, feed_dict= {\n",
        "                                                         input_x:x_train, \n",
        "                                                         input_y: y_train\n",
        "                                                        }))\n",
        "    \n",
        "    training_loss.append(s.run(loss, feed_dict= {\n",
        "                                                  input_x: x_train, \n",
        "                                                  input_y: y_train\n",
        "                                                }))\n",
        "    \n",
        "    # accuracy_score é uma função do scikit-learn que pede pelos parâmetros\n",
        "    # (valores_reais, valores_preditos) e retorna a taxa de acertos\n",
        "    testing_accuracy.append(accuracy_score(y_test.argmax(1), \n",
        "                            s.run(predicted_y, {input_x: x_test}).argmax(1)))\n",
        "\n",
        "    print(\"Epoch:{0}, Train loss: {1} Train acc: {2}, Test acc:{3}\".format(epoch,\n",
        "                                                                    str(training_loss[epoch]),\n",
        "                                                                    str(training_accuracy[epoch]),\n",
        "                                                                    str(testing_accuracy[epoch])))"
      ],
      "execution_count": 0,
      "outputs": [
        {
          "output_type": "stream",
          "text": [
            "Epoch:0, Train loss: 1.622614 Train acc: 0.8406, Test acc:0.8397\n",
            "Epoch:1, Train loss: 1.6164668 Train acc: 0.8454667, Test acc:0.8386\n",
            "Epoch:2, Train loss: 1.6081836 Train acc: 0.8531, Test acc:0.8521\n",
            "Epoch:3, Train loss: 1.6056552 Train acc: 0.85545, Test acc:0.8508\n",
            "Epoch:4, Train loss: 1.6019961 Train acc: 0.8591667, Test acc:0.8525\n"
          ],
          "name": "stdout"
        }
      ]
    },
    {
      "cell_type": "code",
      "metadata": {
        "id": "u9P3mkWU5n5i",
        "colab_type": "code",
        "outputId": "279393d8-1c18-4af1-f983-ab385c87be06",
        "colab": {
          "base_uri": "https://localhost:8080/",
          "height": 318
        }
      },
      "source": [
        "# Plottando o gráfico da accuracy de treino e teste ao longo das iterações\n",
        "iterations = list(range(epochs))\n",
        "plt.plot(iterations, training_accuracy, label='Train')\n",
        "plt.plot(iterations, testing_accuracy, label='Test')\n",
        "plt.ylabel('Accuracy')\n",
        "plt.xlabel('Iterações')\n",
        "plt.show()\n",
        "print(\"Accuracy de treino: {0:.5f}\".format(training_accuracy[-1]))\n",
        "print(\"Accuracy de teste:{0:.5f}\".format(testing_accuracy[-1]))\n",
        "\n",
        "# É importante sempre plottarmos tanto a accuracy de treino\n",
        "# quanto a de teste para que assim possamos identificar\n",
        "# rapidamente casos de overfitting"
      ],
      "execution_count": 0,
      "outputs": [
        {
          "output_type": "display_data",
          "data": {
            "image/png": "[encoded data removed]",
            "text/plain": [
              "<Figure size 432x288 with 1 Axes>"
            ]
          },
          "metadata": {
            "tags": []
          }
        },
        {
          "output_type": "stream",
          "text": [
            "Accuracy de treino: 0.85917\n",
            "Accuracy de teste:0.85250\n"
          ],
          "name": "stdout"
        }
      ]
    },
    {
      "cell_type": "code",
      "metadata": {
        "id": "SMtlHAsd7eXt",
        "colab_type": "code",
        "colab": {}
      },
      "source": [
        ""
      ],
      "execution_count": 0,
      "outputs": []
    }
  ]
}