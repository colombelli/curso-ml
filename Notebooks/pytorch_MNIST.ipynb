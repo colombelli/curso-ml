{
  "nbformat": 4,
  "nbformat_minor": 0,
  "metadata": {
    "colab": {
      "name": "pytorch-MNIST.ipynb",
      "provenance": [],
      "collapsed_sections": []
    },
    "kernelspec": {
      "name": "python3",
      "display_name": "Python 3"
    }
  },
  "cells": [
    {
      "cell_type": "markdown",
      "metadata": {
        "id": "ukCChkRx0db6",
        "colab_type": "text"
      },
      "source": [
        "Autora: Júlia Pelayo Rodrigues\n",
        "```\n",
        "```\n",
        "GitHub: @jpelax\n",
        "```\n",
        "```\n",
        "Baseado principalmente no [PyTorch 1.2 Quickstart with Google Colab](https://medium.com/dair-ai/pytorch-1-2-quickstart-with-google-colab-6690a30c38d)"
      ]
    },
    {
      "cell_type": "code",
      "metadata": {
        "id": "5IEAqtrQHlHs",
        "colab_type": "code",
        "outputId": "62ffd859-cf17-41d7-b1c1-2800cc1891b1",
        "colab": {
          "base_uri": "https://localhost:8080/",
          "height": 280
        }
      },
      "source": [
        "#importações necessárias\n",
        "import torch\n",
        "import torch.nn as nn\n",
        "import torch.nn.functional as F\n",
        "import torchvision\n",
        "import torchvision.transforms as transforms\n",
        "\n",
        "\n",
        "# tamanho do pacote de dados que será carregado para a rede de uma vez\n",
        "BATCH_SIZE = 5\n",
        "\n",
        "# função que serausada para transformar os dados em tensors\n",
        "transform = transforms.Compose(\n",
        "    [transforms.ToTensor()])\n",
        "\n",
        "# download do dataset de treino (e transformação em tensors)\n",
        "trainset = torchvision.datasets.MNIST(root='./data', train=True,\n",
        "                                        download=True, transform=transform)\n",
        "# estrutura do pytorch que facilita carregar os dados para a rede neural em batches\n",
        "# mais tarde usada como iterador\n",
        "trainloader = torch.utils.data.DataLoader(trainset, batch_size=BATCH_SIZE,\n",
        "                                          shuffle=True, num_workers=2)\n",
        "\n",
        "# download, transformação em tensor e criação do dataloader do dataset de teste\n",
        "testset = torchvision.datasets.MNIST(root='./data', train=False,\n",
        "                                       download=True, transform=transform)\n",
        "testloader = torch.utils.data.DataLoader(testset, batch_size=BATCH_SIZE,\n",
        "                                         shuffle=False, num_workers=2)\n"
      ],
      "execution_count": 0,
      "outputs": [
        {
          "output_type": "stream",
          "text": [
            "\r0it [00:00, ?it/s]"
          ],
          "name": "stderr"
        },
        {
          "output_type": "stream",
          "text": [
            "Downloading http://yann.lecun.com/exdb/mnist/train-images-idx3-ubyte.gz to ./data/MNIST/raw/train-images-idx3-ubyte.gz\n"
          ],
          "name": "stdout"
        },
        {
          "output_type": "stream",
          "text": [
            "9920512it [00:01, 4998396.70it/s]                             \n"
          ],
          "name": "stderr"
        },
        {
          "output_type": "stream",
          "text": [
            "Extracting ./data/MNIST/raw/train-images-idx3-ubyte.gz to ./data/MNIST/raw\n"
          ],
          "name": "stdout"
        },
        {
          "output_type": "stream",
          "text": [
            "  0%|          | 0/28881 [00:00<?, ?it/s]"
          ],
          "name": "stderr"
        },
        {
          "output_type": "stream",
          "text": [
            "Downloading http://yann.lecun.com/exdb/mnist/train-labels-idx1-ubyte.gz to ./data/MNIST/raw/train-labels-idx1-ubyte.gz\n"
          ],
          "name": "stdout"
        },
        {
          "output_type": "stream",
          "text": [
            "32768it [00:00, 122855.62it/s]           \n",
            "0it [00:00, ?it/s]"
          ],
          "name": "stderr"
        },
        {
          "output_type": "stream",
          "text": [
            "Extracting ./data/MNIST/raw/train-labels-idx1-ubyte.gz to ./data/MNIST/raw\n",
            "Downloading http://yann.lecun.com/exdb/mnist/t10k-images-idx3-ubyte.gz to ./data/MNIST/raw/t10k-images-idx3-ubyte.gz\n"
          ],
          "name": "stdout"
        },
        {
          "output_type": "stream",
          "text": [
            "1654784it [00:00, 1897905.03it/s]                            \n",
            "0it [00:00, ?it/s]"
          ],
          "name": "stderr"
        },
        {
          "output_type": "stream",
          "text": [
            "Extracting ./data/MNIST/raw/t10k-images-idx3-ubyte.gz to ./data/MNIST/raw\n",
            "Downloading http://yann.lecun.com/exdb/mnist/t10k-labels-idx1-ubyte.gz to ./data/MNIST/raw/t10k-labels-idx1-ubyte.gz\n"
          ],
          "name": "stdout"
        },
        {
          "output_type": "stream",
          "text": [
            "8192it [00:00, 45874.09it/s]            \n"
          ],
          "name": "stderr"
        },
        {
          "output_type": "stream",
          "text": [
            "Extracting ./data/MNIST/raw/t10k-labels-idx1-ubyte.gz to ./data/MNIST/raw\n",
            "Processing...\n",
            "Done!\n"
          ],
          "name": "stdout"
        }
      ]
    },
    {
      "cell_type": "markdown",
      "metadata": {
        "id": "1hFpzY7f1Smt",
        "colab_type": "text"
      },
      "source": [
        "#Entendendo o dataset"
      ]
    },
    {
      "cell_type": "code",
      "metadata": {
        "id": "MaW6LDF1KWwi",
        "colab_type": "code",
        "outputId": "a35a9cb7-d72f-4ce1-c2ef-b4de47a43653",
        "colab": {
          "base_uri": "https://localhost:8080/",
          "height": 87
        }
      },
      "source": [
        "import numpy as np \n",
        "\n",
        "#cria iterador do dataset de treino (com o dataloader)\n",
        "train_iter = iter(trainloader)\n",
        "\n",
        "images, labels = train_iter.next()\n",
        "\n",
        "print(type(images)) #tipo Tensor da biblioteca torch\n",
        "print(images.shape) #[tamanho_batch, 1, 28, 28] (28x28, tamanho das imagens do MNIST)\n",
        "\n",
        "print(type(labels)) \n",
        "print(labels.shape) #[tamanho_batch] -> uma label para cada imagem\n"
      ],
      "execution_count": 0,
      "outputs": [
        {
          "output_type": "stream",
          "text": [
            "<class 'torch.Tensor'>\n",
            "torch.Size([5, 1, 28, 28])\n",
            "<class 'torch.Tensor'>\n",
            "torch.Size([5])\n"
          ],
          "name": "stdout"
        }
      ]
    },
    {
      "cell_type": "code",
      "metadata": {
        "id": "v4D38ufxQB3y",
        "colab_type": "code",
        "outputId": "e8445500-f867-4858-a788-819553c8e815",
        "colab": {
          "base_uri": "https://localhost:8080/",
          "height": 139
        }
      },
      "source": [
        "import matplotlib.pyplot as plt\n",
        "#usando matplotlib para visualizar os dados contidos em um batch\n",
        "\n",
        "npimgs = torchvision.utils.make_grid(images).numpy() #utilidade que transforma o tensor torch em um array numpy\n",
        "plt.imshow(np.transpose(npimgs, (1, 2, 0)))\n"
      ],
      "execution_count": 0,
      "outputs": [
        {
          "output_type": "execute_result",
          "data": {
            "text/plain": [
              "<matplotlib.image.AxesImage at 0x7f0158ee1b00>"
            ]
          },
          "metadata": {
            "tags": []
          },
          "execution_count": 3
        },
        {
          "output_type": "display_data",
          "data": {
            "image/png": "[encoded data removed]",
            "text/plain": [
              "<Figure size 432x288 with 1 Axes>"
            ]
          },
          "metadata": {
            "tags": []
          }
        }
      ]
    },
    {
      "cell_type": "markdown",
      "metadata": {
        "id": "fu2DtEDxfxiD",
        "colab_type": "text"
      },
      "source": [
        "# **Construindo o modelo**\n",
        "Para esse modelo serão usados 3 layers lineares, o primeiro com um input de tamanho 28*28 (784), output 500 e funçaõ de ativação ReLU, o segundo com input de tamanho 500 e saída 256, também usando ReLU, e o terceiro, o layer de output, com 10 labels de saída, usando a função de ativaçã Softmax."
      ]
    },
    {
      "cell_type": "code",
      "metadata": {
        "id": "mQcGAsFISig3",
        "colab_type": "code",
        "colab": {}
      },
      "source": [
        "\n",
        "class Net(nn.Module):\n",
        "    def __init__(self):\n",
        "        super(Net, self).__init__()\n",
        "        \n",
        "        #layer 0: 28x28 -> 500\n",
        "        self.d0 = nn.Linear(784, 16)\n",
        "        #layer 1: 500 -> 256\n",
        "        self.d1 = nn.Linear(16, 16)\n",
        "        #layer 2 (output): 256 -> 10\n",
        "        self.d2 = nn.Linear(16, 10)\n",
        "\n",
        "    def forward(self, x):\n",
        "        #funçã que define como será o feedforward, não é chamada diretamente\n",
        "        \n",
        "        x = x.flatten(start_dim = 1) \n",
        "        \n",
        "        #input passa pelo primeiro layer\n",
        "        x = self.d0(x)\n",
        "        x = F.relu(x)  #função de ativação\n",
        "\n",
        "        #input passa pelo segundo layer\n",
        "        x = self.d1(x)\n",
        "        x = F.relu(x)\n",
        "        \n",
        "        #layer de output\n",
        "        logits = self.d2(x)\n",
        "        out = F.softmax(logits, dim=1) #usando a função de ativação softmax\n",
        "        return out\n"
      ],
      "execution_count": 0,
      "outputs": []
    },
    {
      "cell_type": "code",
      "metadata": {
        "id": "6bAmVtyib9lM",
        "colab_type": "code",
        "colab": {}
      },
      "source": [
        "\n",
        "learning_rate = 0.001\n",
        "num_epochs = 5\n",
        "\n",
        "#define se as operacoes serao executadas pela cpu ou gpu\n",
        "device = torch.device(\"cuda:0\" if torch.cuda.is_available() else \"cpu\") \n",
        "\n",
        "#instancia o modelo\n",
        "model = Net()\n",
        "model = model.to(device)\n",
        "\n",
        "# função de erro\n",
        "criterion = nn.CrossEntropyLoss()\n",
        "\n",
        "# define o otimizador\n",
        "optimizer = torch.optim.Adam(model.parameters(), lr=learning_rate)\n",
        "\n",
        "# computa a acuracia\n",
        "def get_accuracy(logit, target, batch_size):\n",
        "    ''' Obtain accuracy for training round '''\n",
        "    corrects = (torch.max(logit, 1)[1].view(target.size()).data == target.data).sum()\n",
        "    accuracy = 100.0 * corrects/batch_size\n",
        "    return accuracy.item()\n"
      ],
      "execution_count": 0,
      "outputs": []
    },
    {
      "cell_type": "code",
      "metadata": {
        "id": "t6COaTF5cBSR",
        "colab_type": "code",
        "outputId": "00c61e38-a7ba-4773-89f2-cb6d360efbd7",
        "colab": {
          "base_uri": "https://localhost:8080/",
          "height": 104
        }
      },
      "source": [
        "#treino\n",
        "for epoch in range(num_epochs):\n",
        "    train_running_loss = 0.0\n",
        "    train_acc = 0.0\n",
        "\n",
        "    model = model.train()\n",
        "    #define que a modelo está em modo treinamento\n",
        "\n",
        "    ## training step\n",
        "    for i, (images, labels) in enumerate(trainloader):\n",
        "        #manda ou para a cpu ou gpu\n",
        "        images = images.to(device)\n",
        "        labels = labels.to(device)\n",
        "\n",
        "        #carrega o batch para a rede e recebe o output\n",
        "        logits = model(images)\n",
        "        #computa o erro\n",
        "        loss = criterion(logits, labels)\n",
        "        #realiza o backpropagation\n",
        "        optimizer.zero_grad()\n",
        "        loss.backward()\n",
        "\n",
        "        # update dos parametros\n",
        "        optimizer.step()\n",
        "\n",
        "        # computa a loss e a acuracia\n",
        "        train_running_loss += loss.detach().item()\n",
        "        train_acc += get_accuracy(logits, labels, BATCH_SIZE)\n",
        "    \n",
        "    #define que o modelo está no modo evaluation\n",
        "    model.eval()\n",
        "    \n",
        "    print('Epoch: %d | Loss: %.4f | Train Accuracy: %.2f' \\\n",
        "          %(epoch, train_running_loss / i, train_acc/i)) \n"
      ],
      "execution_count": 0,
      "outputs": [
        {
          "output_type": "stream",
          "text": [
            "Epoch: 0 | Loss: 1.5973 | Train Accuracy: 87.55\n",
            "Epoch: 1 | Loss: 1.5365 | Train Accuracy: 92.72\n",
            "Epoch: 2 | Loss: 1.5273 | Train Accuracy: 93.54\n",
            "Epoch: 3 | Loss: 1.5222 | Train Accuracy: 94.00\n",
            "Epoch: 4 | Loss: 1.5199 | Train Accuracy: 94.20\n"
          ],
          "name": "stdout"
        }
      ]
    }
  ]
}